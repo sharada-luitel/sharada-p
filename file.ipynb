{
 "cells": [
  {
   "cell_type": "code",
   "execution_count": 1,
   "id": "fec752f4",
   "metadata": {},
   "outputs": [],
   "source": [
    "#file=open(<file_name>,mode)\n",
    "#fle.close()\n",
    "#mode\n",
    "#read-> r\n",
    "#create->x\n",
    "#append->a\n",
    "#write_> w\n",
    "#with open(<file_name>,mode) as file:\n",
    "#    <operation>"
   ]
  },
  {
   "cell_type": "code",
   "execution_count": 2,
   "id": "edc046c8",
   "metadata": {},
   "outputs": [],
   "source": [
    "file=open('data.txt','x')\n",
    "file.close()"
   ]
  },
  {
   "cell_type": "code",
   "execution_count": 6,
   "id": "9aa10221",
   "metadata": {},
   "outputs": [
    {
     "name": "stdout",
     "output_type": "stream",
     "text": [
      "1.Hello World\n",
      "2.Hello World\n",
      "3.Hello World\n",
      "4.Hello World \n",
      "5.Hello World\n",
      "6.Hello World\n",
      "\n",
      "<class 'str'>\n"
     ]
    }
   ],
   "source": [
    "file=open('data.txt','r')\n",
    "my_data=file.read()\n",
    "print(my_data)\n",
    "print(type(my_data))\n",
    "file.close()"
   ]
  },
  {
   "cell_type": "code",
   "execution_count": 7,
   "id": "e8ac3e1d",
   "metadata": {},
   "outputs": [
    {
     "data": {
      "text/plain": [
       "'1.Hello World\\n2.Hello World\\n3.Hello World\\n4.Hello World \\n5.Hello World\\n6.Hello World\\n'"
      ]
     },
     "execution_count": 7,
     "metadata": {},
     "output_type": "execute_result"
    }
   ],
   "source": [
    "my_data"
   ]
  },
  {
   "cell_type": "code",
   "execution_count": 8,
   "id": "fee861f7",
   "metadata": {},
   "outputs": [
    {
     "name": "stdout",
     "output_type": "stream",
     "text": [
      "1.Hello World\n",
      "2.Hello World\n",
      "3.Hello World\n",
      "4.Hello World \n",
      "5.Hello World\n",
      "6.Hello World\n",
      "\n"
     ]
    }
   ],
   "source": [
    "print(my_data)"
   ]
  },
  {
   "cell_type": "code",
   "execution_count": 9,
   "id": "82ec6b5e",
   "metadata": {},
   "outputs": [
    {
     "name": "stdout",
     "output_type": "stream",
     "text": [
      "enter line no=1\n"
     ]
    },
    {
     "data": {
      "text/plain": [
       "'1.Hello World'"
      ]
     },
     "execution_count": 9,
     "metadata": {},
     "output_type": "execute_result"
    }
   ],
   "source": [
    "line_no= int(input(\"enter line no=\"))\n",
    "my_data.split('\\n')[line_no-1]"
   ]
  },
  {
   "cell_type": "code",
   "execution_count": 10,
   "id": "d790da73",
   "metadata": {},
   "outputs": [],
   "source": [
    "file=open(\"data.txt\",'w')\n",
    "file.write(\"Hello world\")\n",
    "file.close()"
   ]
  },
  {
   "cell_type": "code",
   "execution_count": 1,
   "id": "133219d8",
   "metadata": {},
   "outputs": [
    {
     "name": "stdout",
     "output_type": "stream",
     "text": [
      "enter the value of n=1\n",
      "enter product name=cat\n",
      "enter price=2345\n",
      "enter quantity=3\n",
      "cat 2345 3 7035\n",
      "\n",
      "all total price= 7035\n"
     ]
    }
   ],
   "source": [
    "bill=\"\"\n",
    "all_total=0\n",
    "n=int(input(\"enter the value of n=\"))\n",
    "for i in range(n):\n",
    "    product=input(\"enter product name=\")\n",
    "    price=int(input(\"enter price=\"))\n",
    "    quantity=int(input(\"enter quantity=\"))\n",
    "    total=price*quantity\n",
    "    all_total=all_total+total\n",
    "    bill=bill+f\"{product} {price} {quantity} {total}\\n\"\n",
    "print(bill)\n",
    "file=open(\"bill.txt\",'w')\n",
    "file.write(bill)\n",
    "file.close()\n",
    "print(\"all total price=\",all_total)"
   ]
  },
  {
   "cell_type": "code",
   "execution_count": 2,
   "id": "3d45592b",
   "metadata": {},
   "outputs": [
    {
     "name": "stdout",
     "output_type": "stream",
     "text": [
      "enter the value of n=2\n",
      "enter product name=apple\n",
      "enter price=222\n",
      "enter quantity=2\n",
      "enter product name=ball\n",
      "enter price=333\n",
      "enter quantity=2\n",
      "apple 222 2 444\n",
      "ball 333 2 666\n",
      "\n",
      "all total price= 1110\n"
     ]
    }
   ],
   "source": [
    "bill=\"\"\n",
    "all_total=0\n",
    "n=int(input(\"enter the value of n=\"))\n",
    "for i in range(n):\n",
    "    product=input(\"enter product name=\")\n",
    "    price=int(input(\"enter price=\"))\n",
    "    quantity=int(input(\"enter quantity=\"))\n",
    "    total=price*quantity\n",
    "    all_total=all_total+total\n",
    "    bill=bill+f\"{product} {price} {quantity} {total}\\n\"\n",
    "print(bill)\n",
    "file=open(\"bill.txt\",'a')\n",
    "file.write(bill)\n",
    "file.close()\n",
    "print(\"all total price=\",all_total)"
   ]
  },
  {
   "cell_type": "code",
   "execution_count": 6,
   "id": "7970a45f",
   "metadata": {},
   "outputs": [
    {
     "name": "stdout",
     "output_type": "stream",
     "text": [
      "enter the value of n=2\n",
      "enter product name=apple\n",
      "enter price=222\n",
      "enter quantity=2\n",
      "enter product name=banana\n",
      "enter price=444\n",
      "enter quantity=3\n",
      "apple ,222, 2, 444\n",
      "banana ,444, 3, 1332\n",
      "\n",
      "all total price= 1776\n"
     ]
    }
   ],
   "source": [
    "bill=\"\"\n",
    "all_total=0\n",
    "n=int(input(\"enter the value of n=\"))\n",
    "for i in range(n):\n",
    "    product=input(\"enter product name=\")\n",
    "    price=int(input(\"enter price=\"))\n",
    "    quantity=int(input(\"enter quantity=\"))\n",
    "    total=price*quantity\n",
    "    all_total=all_total+total\n",
    "    row=f\"{product} ,{price}, {quantity}, {total}\\n\"\n",
    "    bill=bill+row\n",
    "print(bill)\n",
    "file=open(\"bill.csv\",'w')\n",
    "file.write(\"Name,Price,Quantity,Total\\n\")\n",
    "file.write(bill)\n",
    "file.close()\n",
    "print(\"all total price=\",all_total)"
   ]
  },
  {
   "cell_type": "code",
   "execution_count": 5,
   "id": "59597ade",
   "metadata": {},
   "outputs": [
    {
     "data": {
      "text/plain": [
       "'C:\\\\Users\\\\ACER'"
      ]
     },
     "execution_count": 5,
     "metadata": {},
     "output_type": "execute_result"
    }
   ],
   "source": [
    "pwd\n"
   ]
  },
  {
   "cell_type": "code",
   "execution_count": null,
   "id": "ce4071a7",
   "metadata": {},
   "outputs": [],
   "source": []
  }
 ],
 "metadata": {
  "kernelspec": {
   "display_name": "Python 3 (ipykernel)",
   "language": "python",
   "name": "python3"
  },
  "language_info": {
   "codemirror_mode": {
    "name": "ipython",
    "version": 3
   },
   "file_extension": ".py",
   "mimetype": "text/x-python",
   "name": "python",
   "nbconvert_exporter": "python",
   "pygments_lexer": "ipython3",
   "version": "3.10.9"
  }
 },
 "nbformat": 4,
 "nbformat_minor": 5
}
