{
 "cells": [
  {
   "cell_type": "code",
   "execution_count": 5,
   "id": "37b952dd",
   "metadata": {},
   "outputs": [
    {
     "name": "stdout",
     "output_type": "stream",
     "text": [
      "enter 1 i you are individual and 2 if u are married=1\n",
      "enter your totel salary=500000\n"
     ]
    }
   ],
   "source": [
    "x=int(input(\"enter 1 i you are individual and 2 if u are married=\"))\n",
    "s=int(input(\"enter your totel salary=\"))\n",
    "if x==1 or x==2:\n",
    "    if x==1:\n",
    "        if s<=400000:\n",
    "            tds=0.01\n",
    "        elif s<=500000:\n",
    "            tds=0.1\n",
    "        elif s<=700000:\n",
    "            tds=0.2\n",
    "        elif s<=1300000:\n",
    "            tds=0.3\n",
    "        elif s>1300000:\n",
    "            tds=0.36\n",
    "    elif x==2:\n",
    "        if s<=450000:\n",
    "            tds=0.01\n",
    "        elif s<=550000:\n",
    "            tds=0.1\n",
    "        elif s<=750000:\n",
    "            tds=0.2\n",
    "        elif s<=1300000:\n",
    "            tds=0.3\n",
    "        elif s>1300000:\n",
    "            tds=0.36\n",
    "        print(\"please enter valid 1 or 2\")\n",
    "    \n",
    "else:\n",
    "    print(\"your net salary=\",(1-tds)*s)"
   ]
  },
  {
   "cell_type": "code",
   "execution_count": null,
   "id": "e6eebf66",
   "metadata": {},
   "outputs": [],
   "source": []
  }
 ],
 "metadata": {
  "kernelspec": {
   "display_name": "Python 3 (ipykernel)",
   "language": "python",
   "name": "python3"
  },
  "language_info": {
   "codemirror_mode": {
    "name": "ipython",
    "version": 3
   },
   "file_extension": ".py",
   "mimetype": "text/x-python",
   "name": "python",
   "nbconvert_exporter": "python",
   "pygments_lexer": "ipython3",
   "version": "3.10.9"
  }
 },
 "nbformat": 4,
 "nbformat_minor": 5
}
