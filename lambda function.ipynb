{
 "cells": [
  {
   "cell_type": "code",
   "execution_count": 1,
   "id": "61547af1",
   "metadata": {},
   "outputs": [
    {
     "data": {
      "text/plain": [
       "4"
      ]
     },
     "execution_count": 1,
     "metadata": {},
     "output_type": "execute_result"
    }
   ],
   "source": [
    "x=lambda a:a**2\n",
    "x(2)"
   ]
  },
  {
   "cell_type": "code",
   "execution_count": 2,
   "id": "dd9e9ff8",
   "metadata": {},
   "outputs": [
    {
     "data": {
      "text/plain": [
       "20"
      ]
     },
     "execution_count": 2,
     "metadata": {},
     "output_type": "execute_result"
    }
   ],
   "source": [
    "x=lambda l,b:l*b\n",
    "x(10,2)"
   ]
  },
  {
   "cell_type": "code",
   "execution_count": 3,
   "id": "3113c4d2",
   "metadata": {},
   "outputs": [
    {
     "name": "stdout",
     "output_type": "stream",
     "text": [
      "[3, 123]\n",
      "[2, 4, 10, 22]\n"
     ]
    }
   ],
   "source": [
    "lists=[1,2,3,4,10,123,22]\n",
    "div=list(filter(lambda x:(x%3==0),lists))\n",
    "even=list(filter(lambda x:(x%2==0),lists))\n",
    "print(div)\n",
    "print(even)"
   ]
  },
  {
   "cell_type": "code",
   "execution_count": 4,
   "id": "0ff2aea1",
   "metadata": {},
   "outputs": [
    {
     "data": {
      "text/plain": [
       "[]"
      ]
     },
     "execution_count": 4,
     "metadata": {},
     "output_type": "execute_result"
    }
   ],
   "source": [
    "a=[\"Apple\",\"ball\",\"Cat\",\"dog\"]\n",
    "div=list(filter(lambda x:x.isupper(),a))\n",
    "div"
   ]
  },
  {
   "cell_type": "code",
   "execution_count": 5,
   "id": "ee0796a9",
   "metadata": {},
   "outputs": [
    {
     "data": {
      "text/plain": [
       "['APPLE', 'CAT']"
      ]
     },
     "execution_count": 5,
     "metadata": {},
     "output_type": "execute_result"
    }
   ],
   "source": [
    "a=[\"APPLE\",\"ball\",\"CAT\",\"dog\"]\n",
    "div=list(filter(lambda x:x.isupper(),a))\n",
    "div"
   ]
  },
  {
   "cell_type": "code",
   "execution_count": 6,
   "id": "ca8fad9b",
   "metadata": {},
   "outputs": [
    {
     "data": {
      "text/plain": [
       "[1, 4, 9, 16, 25, 36, 49, 64, 81]"
      ]
     },
     "execution_count": 6,
     "metadata": {},
     "output_type": "execute_result"
    }
   ],
   "source": [
    "a=[1,2,3,4,5,6,7,8,9]\n",
    "sq=list(map(lambda x:x**2,a))\n",
    "sq"
   ]
  },
  {
   "cell_type": "code",
   "execution_count": 7,
   "id": "ab734795",
   "metadata": {},
   "outputs": [
    {
     "data": {
      "text/plain": [
       "['APPLE', 'BALL', 'CAT', 'DOG']"
      ]
     },
     "execution_count": 7,
     "metadata": {},
     "output_type": "execute_result"
    }
   ],
   "source": [
    "a=[\"apple\",\"ball\",\"cat\",\"dog\"]\n",
    "cap=list(map(lambda x:x.upper(),a))\n",
    "cap"
   ]
  },
  {
   "cell_type": "code",
   "execution_count": null,
   "id": "0bb93858",
   "metadata": {},
   "outputs": [],
   "source": []
  }
 ],
 "metadata": {
  "kernelspec": {
   "display_name": "Python 3 (ipykernel)",
   "language": "python",
   "name": "python3"
  },
  "language_info": {
   "codemirror_mode": {
    "name": "ipython",
    "version": 3
   },
   "file_extension": ".py",
   "mimetype": "text/x-python",
   "name": "python",
   "nbconvert_exporter": "python",
   "pygments_lexer": "ipython3",
   "version": "3.10.9"
  }
 },
 "nbformat": 4,
 "nbformat_minor": 5
}
