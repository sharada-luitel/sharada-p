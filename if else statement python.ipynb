{
 "cells": [
  {
   "cell_type": "code",
   "execution_count": null,
   "id": "d73d6258",
   "metadata": {},
   "outputs": [],
   "source": []
  },
  {
   "cell_type": "code",
   "execution_count": 1,
   "id": "e2a593b1",
   "metadata": {},
   "outputs": [],
   "source": [
    "#if<condition>:\n",
    "#    <operation>\n",
    "#elif<condition>:\n",
    " #   <operation>\n",
    "#elif<condition>:\n",
    " #   <operation>\n",
    "#...\n",
    "#else:\n",
    "#    <operation>"
   ]
  },
  {
   "cell_type": "code",
   "execution_count": 2,
   "id": "3dd9a1c3",
   "metadata": {},
   "outputs": [],
   "source": [
    "# < > <= >= == !="
   ]
  },
  {
   "cell_type": "code",
   "execution_count": 3,
   "id": "05977791",
   "metadata": {},
   "outputs": [
    {
     "name": "stdout",
     "output_type": "stream",
     "text": [
      "False\n",
      "True\n"
     ]
    }
   ],
   "source": [
    "a=10\n",
    "b=20\n",
    "print(a>b)\n",
    "print(a<b)"
   ]
  },
  {
   "cell_type": "code",
   "execution_count": 5,
   "id": "f81b4d13",
   "metadata": {},
   "outputs": [
    {
     "name": "stdout",
     "output_type": "stream",
     "text": [
      "True\n",
      "True\n"
     ]
    }
   ],
   "source": [
    "a=20\n",
    "b=20\n",
    "print(a>=b)\n",
    "print(a<=b)"
   ]
  },
  {
   "cell_type": "code",
   "execution_count": 6,
   "id": "4003f63c",
   "metadata": {},
   "outputs": [
    {
     "name": "stdout",
     "output_type": "stream",
     "text": [
      "True\n"
     ]
    }
   ],
   "source": [
    "a=20\n",
    "b=20\n",
    "print(a==b)\n"
   ]
  },
  {
   "cell_type": "code",
   "execution_count": 8,
   "id": "9dfa0b10",
   "metadata": {},
   "outputs": [
    {
     "name": "stdout",
     "output_type": "stream",
     "text": [
      "True\n"
     ]
    }
   ],
   "source": [
    "a=20\n",
    "b=10\n",
    "print(a!=b)  #does not equal\n"
   ]
  },
  {
   "cell_type": "code",
   "execution_count": 9,
   "id": "c6f9298c",
   "metadata": {},
   "outputs": [
    {
     "name": "stdout",
     "output_type": "stream",
     "text": [
      "enter x=10\n",
      "this is +ve no\n"
     ]
    }
   ],
   "source": [
    "x=int(input(\"enter x=\"))\n",
    "if x>=0:\n",
    "    print(\"this is +ve no\")\n",
    "else:\n",
    "    print(\"this is -ve no\")"
   ]
  },
  {
   "cell_type": "code",
   "execution_count": 10,
   "id": "9a511dcb",
   "metadata": {},
   "outputs": [
    {
     "data": {
      "text/plain": [
       "True"
      ]
     },
     "execution_count": 10,
     "metadata": {},
     "output_type": "execute_result"
    }
   ],
   "source": [
    "10%2==0"
   ]
  },
  {
   "cell_type": "code",
   "execution_count": 11,
   "id": "024884ee",
   "metadata": {},
   "outputs": [
    {
     "name": "stdout",
     "output_type": "stream",
     "text": [
      "enter x=11\n",
      "this is odd no\n"
     ]
    }
   ],
   "source": [
    "x=int(input(\"enter x=\"))\n",
    "if x%2==0:\n",
    "    print(\"this is even no\")\n",
    "else:\n",
    "    print(\"this is odd no\")"
   ]
  },
  {
   "cell_type": "code",
   "execution_count": 1,
   "id": "1c501164",
   "metadata": {},
   "outputs": [
    {
     "name": "stdout",
     "output_type": "stream",
     "text": [
      "enter a=1\n",
      "enter b=20\n",
      "b is greater than a\n"
     ]
    }
   ],
   "source": [
    "a=int(input(\"enter a=\"))\n",
    "b=int(input(\"enter b=\"))\n",
    "if a>b:\n",
    "    print(\"a is greater than b\")\n",
    "elif b>a:\n",
    "    print(\"b is greater than a\")\n",
    "else:\n",
    "    print(\"both a and b are equal\")"
   ]
  },
  {
   "cell_type": "code",
   "execution_count": 11,
   "id": "e2ae7faa",
   "metadata": {},
   "outputs": [
    {
     "name": "stdout",
     "output_type": "stream",
     "text": [
      "enter a--5\n",
      "enter b=0\n",
      "enter + - * //\n",
      "the value of b cannot be zero\n"
     ]
    }
   ],
   "source": [
    "a=int(input(\"enter a--\"))\n",
    "b=int(input(\"enter b=\"))\n",
    "o=input(\"enter + - * /\")\n",
    "if o=='+':\n",
    "    print(a+b)\n",
    "elif o=='-':\n",
    "    print(a-b)\n",
    "elif o=='*':\n",
    "    print(a*b)\n",
    "elif o=='/'and b!=0:\n",
    "    print(a/b)\n",
    "elif o==\"/\" and b==0:\n",
    "    print(\"the value of b cannot be zero\")\n",
    "else:\n",
    "    print('Invalid operator')"
   ]
  },
  {
   "cell_type": "code",
   "execution_count": 5,
   "id": "0f6cce5f",
   "metadata": {},
   "outputs": [
    {
     "name": "stdout",
     "output_type": "stream",
     "text": [
      "enter l-- 4\n",
      "enter b-- 5\n",
      "enter a for area and v for volume v\n",
      "enter h=6\n",
      "120\n"
     ]
    }
   ],
   "source": [
    "l=int(input(\"enter l-- \"))\n",
    "b=int(input(\"enter b-- \"))\n",
    "o=input(\"enter a for area and v for volume \")\n",
    "if o=='a':\n",
    "    area=l*b\n",
    "    print(area)\n",
    "elif o=='v':\n",
    "    h=int(input(\"enter h=\"))\n",
    "    volume=l*b*h\n",
    "    print(volume)\n",
    "else:\n",
    "    print(\"invalid entry\")"
   ]
  },
  {
   "cell_type": "code",
   "execution_count": 6,
   "id": "6a34c6c9",
   "metadata": {},
   "outputs": [],
   "source": [
    "#and & -> multiplication\n",
    "#or  / -> addition"
   ]
  },
  {
   "cell_type": "code",
   "execution_count": 9,
   "id": "97ac7139",
   "metadata": {},
   "outputs": [
    {
     "name": "stdout",
     "output_type": "stream",
     "text": [
      "True\n",
      "False\n",
      "False\n",
      "False\n"
     ]
    }
   ],
   "source": [
    "#and\n",
    "print(True and True)\n",
    "print(True and False)\n",
    "print(False and True)\n",
    "print(False and False)"
   ]
  },
  {
   "cell_type": "code",
   "execution_count": 10,
   "id": "7a0501b8",
   "metadata": {},
   "outputs": [
    {
     "name": "stdout",
     "output_type": "stream",
     "text": [
      "True\n",
      "True\n",
      "True\n",
      "False\n"
     ]
    }
   ],
   "source": [
    "#or\n",
    "print(True or True)\n",
    "print(True or False)\n",
    "print(False or True)\n",
    "print(False or False)"
   ]
  },
  {
   "cell_type": "code",
   "execution_count": null,
   "id": "fa0d18af",
   "metadata": {},
   "outputs": [],
   "source": []
  }
 ],
 "metadata": {
  "kernelspec": {
   "display_name": "Python 3 (ipykernel)",
   "language": "python",
   "name": "python3"
  },
  "language_info": {
   "codemirror_mode": {
    "name": "ipython",
    "version": 3
   },
   "file_extension": ".py",
   "mimetype": "text/x-python",
   "name": "python",
   "nbconvert_exporter": "python",
   "pygments_lexer": "ipython3",
   "version": "3.10.9"
  }
 },
 "nbformat": 4,
 "nbformat_minor": 5
}
