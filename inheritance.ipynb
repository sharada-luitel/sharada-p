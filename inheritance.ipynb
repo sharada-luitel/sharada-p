{
 "cells": [
  {
   "cell_type": "code",
   "execution_count": 1,
   "id": "6c8c805e",
   "metadata": {},
   "outputs": [],
   "source": [
    "class A:\n",
    "    pass\n",
    "class B(A):\n",
    "    pass\n",
    "obj=B()"
   ]
  },
  {
   "cell_type": "code",
   "execution_count": 3,
   "id": "670bc53e",
   "metadata": {},
   "outputs": [
    {
     "name": "stdout",
     "output_type": "stream",
     "text": [
      "hello I am Ram.I am fromkathmandu.I am 34.\n"
     ]
    }
   ],
   "source": [
    "class data:\n",
    "    def __init__(self):\n",
    "        self.name=\"Ram\"\n",
    "        self.age=34\n",
    "        self.add=\"kathmandu\"\n",
    "class Information(data):\n",
    "    def info(self):\n",
    "        print(f\"hello I am {self.name}.I am from{self.add}.I am {self.age}.\")\n",
    "obj=Information()\n",
    "obj.info()"
   ]
  },
  {
   "cell_type": "code",
   "execution_count": 5,
   "id": "943be6ca",
   "metadata": {},
   "outputs": [
    {
     "name": "stdout",
     "output_type": "stream",
     "text": [
      "hello I am ram.I am fromKathmandu.I am 34.\n"
     ]
    }
   ],
   "source": [
    "class data:                #parent class\n",
    "    def __init__(self,name,age,add):\n",
    "        self.name=name\n",
    "        self.age=age\n",
    "        self.add=add\n",
    "class Information(data):     #clild class\n",
    "    def info(self):\n",
    "        print(f\"hello I am {self.name}.I am from{self.add}.I am {self.age}.\")\n",
    "obj=Information(\"ram\",34,\"Kathmandu\")\n",
    "obj.info()"
   ]
  },
  {
   "cell_type": "code",
   "execution_count": 7,
   "id": "5c4d5f56",
   "metadata": {},
   "outputs": [
    {
     "name": "stdout",
     "output_type": "stream",
     "text": [
      "hello I am ram.I am fromKathmandu.I am 34.My phone no is9866574\n"
     ]
    }
   ],
   "source": [
    "class data:                #parent class\n",
    "    def __init__(self,name,age,add):\n",
    "        self.name=name\n",
    "        self.age=age\n",
    "        self.add=add\n",
    "class Information(data):   #clild class\n",
    "    def __init__(self,name,age,add,phone):\n",
    "        data.__init__(self ,name,age,add)\n",
    "        self.phone=phone\n",
    "    def info(self):\n",
    "        print(f\"hello I am {self.name}.I am from{self.add}.I am {self.age}.My phone no is{self.phone}\")\n",
    "obj=Information(\"ram\",34,\"Kathmandu\",9866574)\n",
    "obj.info()"
   ]
  },
  {
   "cell_type": "code",
   "execution_count": 9,
   "id": "5cdb3f7e",
   "metadata": {},
   "outputs": [],
   "source": [
    "#multilevel\n",
    "class A:\n",
    "    pass\n",
    "class B(A):\n",
    "    pass\n",
    "class C(B):\n",
    "    pass\n",
    "obj=C()"
   ]
  },
  {
   "cell_type": "code",
   "execution_count": 11,
   "id": "3d8b784b",
   "metadata": {},
   "outputs": [],
   "source": [
    "#multi class\n",
    "class A:\n",
    "    pass\n",
    "class B():\n",
    "    pass\n",
    "class C(A,B):\n",
    "    pass\n",
    "obj=C()"
   ]
  },
  {
   "cell_type": "code",
   "execution_count": 12,
   "id": "8456db53",
   "metadata": {},
   "outputs": [
    {
     "name": "stdout",
     "output_type": "stream",
     "text": [
      "hello I am ram.I am fromKathmandu.I am 34.My phone no is9866574\n"
     ]
    }
   ],
   "source": [
    "#multilevel\n",
    "class Details:\n",
    "    def __init__(self,add):\n",
    "        self.add=add\n",
    "        \n",
    "class data:                #parent class\n",
    "    def __init__(self,name,age,add):\n",
    "        self.name=name\n",
    "        self.age=age\n",
    "        Details.__init__(self,add)\n",
    "class Information(data):   #clild class\n",
    "    def __init__(self,name,age,add,phone):\n",
    "        data.__init__(self ,name,age,add)\n",
    "        self.phone=phone\n",
    "        \n",
    "    def info(self):\n",
    "        print(f\"hello I am {self.name}.I am from{self.add}.I am {self.age}.My phone no is{self.phone}\")\n",
    "obj=Information(\"ram\",34,\"Kathmandu\",9866574)\n",
    "obj.info()"
   ]
  },
  {
   "cell_type": "code",
   "execution_count": 1,
   "id": "7ef492cc",
   "metadata": {},
   "outputs": [
    {
     "name": "stdout",
     "output_type": "stream",
     "text": [
      "Hello I am Ram. I am from Kathmandu. I am 56. My phone no is 9808778765\n"
     ]
    }
   ],
   "source": [
    "# multilevel\n",
    "class Details:\n",
    "    def __init__(self):\n",
    "        self.add = \"Kathmandu\"\n",
    "        \n",
    "class Data(Details):                            #Parent class\n",
    "    def __init__(self):\n",
    "        self.name = \"Ram\"\n",
    "        self.age = 56\n",
    "        Details.__init__(self)\n",
    "        \n",
    "class Information(Data):              #Child class\n",
    "    def __init__(self):\n",
    "        self.phone = 9808778765\n",
    "        Data.__init__(self)\n",
    "       \n",
    "        \n",
    "    def info(self):\n",
    "        print(f\"Hello I am {self.name}. I am from {self.add}. I am {self.age}. My phone no is {self.phone}\")\n",
    "        \n",
    "obj = Information()\n",
    "obj.info()"
   ]
  },
  {
   "cell_type": "code",
   "execution_count": 2,
   "id": "0947ad9c",
   "metadata": {},
   "outputs": [
    {
     "name": "stdout",
     "output_type": "stream",
     "text": [
      "Hello I am Ram. I am from Kathmandu. I am 56. My phone no is 9808778765\n"
     ]
    }
   ],
   "source": [
    "# multilevel\n",
    "class Details:\n",
    "    def __init__(self):\n",
    "        self.add = \"Kathmandu\"\n",
    "        \n",
    "class Data:                            #Parent class\n",
    "    def __init__(self):\n",
    "        self.name = \"Ram\"\n",
    "        self.age = 56\n",
    "        \n",
    "        \n",
    "class Information(Data,Details):              #Child class\n",
    "    def __init__(self):\n",
    "        self.phone = 9808778765\n",
    "        Data.__init__(self)\n",
    "        Details.__init__(self)\n",
    "       \n",
    "        \n",
    "    def info(self):\n",
    "        print(f\"Hello I am {self.name}. I am from {self.add}. I am {self.age}. My phone no is {self.phone}\")\n",
    "        \n",
    "obj = Information()\n",
    "obj.info()"
   ]
  },
  {
   "cell_type": "code",
   "execution_count": 3,
   "id": "32c40737",
   "metadata": {},
   "outputs": [
    {
     "name": "stdout",
     "output_type": "stream",
     "text": [
      "Ram\n",
      "34\n",
      "Kathmandu\n"
     ]
    }
   ],
   "source": [
    "#public members\n",
    "class Info:\n",
    "    def __init__(self):\n",
    "        self.name=\"Ram\"\n",
    "        self.age=34\n",
    "        self.add=\"Kathmandu\"\n",
    "        \n",
    "obj=Info()\n",
    "print(obj.name)\n",
    "print(obj.age)\n",
    "print(obj.add)"
   ]
  },
  {
   "cell_type": "code",
   "execution_count": 4,
   "id": "80a81653",
   "metadata": {},
   "outputs": [
    {
     "name": "stdout",
     "output_type": "stream",
     "text": [
      "Ram\n",
      "34\n",
      "Kathmandu\n"
     ]
    }
   ],
   "source": [
    "#protected members\n",
    "class Info:\n",
    "    def __init__(self):\n",
    "        self._name=\"Ram\"\n",
    "        self._age=34\n",
    "        self._add=\"Kathmandu\"\n",
    "        \n",
    "obj=Info()\n",
    "print(obj._name)\n",
    "print(obj._age)\n",
    "print(obj._add)"
   ]
  },
  {
   "cell_type": "code",
   "execution_count": 5,
   "id": "80662d34",
   "metadata": {},
   "outputs": [
    {
     "ename": "AttributeError",
     "evalue": "'Info' object has no attribute '__name'",
     "output_type": "error",
     "traceback": [
      "\u001b[1;31m---------------------------------------------------------------------------\u001b[0m",
      "\u001b[1;31mAttributeError\u001b[0m                            Traceback (most recent call last)",
      "Cell \u001b[1;32mIn[5], line 9\u001b[0m\n\u001b[0;32m      6\u001b[0m         \u001b[38;5;28mself\u001b[39m\u001b[38;5;241m.\u001b[39m__add\u001b[38;5;241m=\u001b[39m\u001b[38;5;124m\"\u001b[39m\u001b[38;5;124mKathmandu\u001b[39m\u001b[38;5;124m\"\u001b[39m\n\u001b[0;32m      8\u001b[0m obj\u001b[38;5;241m=\u001b[39mInfo()\n\u001b[1;32m----> 9\u001b[0m \u001b[38;5;28mprint\u001b[39m(\u001b[43mobj\u001b[49m\u001b[38;5;241;43m.\u001b[39;49m\u001b[43m__name\u001b[49m)\n\u001b[0;32m     10\u001b[0m \u001b[38;5;28mprint\u001b[39m(obj\u001b[38;5;241m.\u001b[39m__age)\n\u001b[0;32m     11\u001b[0m \u001b[38;5;28mprint\u001b[39m(obj\u001b[38;5;241m.\u001b[39m__add)\n",
      "\u001b[1;31mAttributeError\u001b[0m: 'Info' object has no attribute '__name'"
     ]
    }
   ],
   "source": [
    "#private members\n",
    "class Info:\n",
    "    def __init__(self):\n",
    "        self.__name=\"Ram\"\n",
    "        self.__age=34\n",
    "        self.__add=\"Kathmandu\"\n",
    "        \n",
    "obj=Info()\n",
    "print(obj.__name)\n",
    "print(obj.__age)\n",
    "print(obj.__add)"
   ]
  },
  {
   "cell_type": "code",
   "execution_count": 10,
   "id": "a65c65d0",
   "metadata": {},
   "outputs": [
    {
     "ename": "AttributeError",
     "evalue": "'Information' object has no attribute 'age'",
     "output_type": "error",
     "traceback": [
      "\u001b[1;31m---------------------------------------------------------------------------\u001b[0m",
      "\u001b[1;31mAttributeError\u001b[0m                            Traceback (most recent call last)",
      "Cell \u001b[1;32mIn[10], line 12\u001b[0m\n\u001b[0;32m     10\u001b[0m         \u001b[38;5;28mprint\u001b[39m(\u001b[38;5;124mf\u001b[39m\u001b[38;5;124m\"\u001b[39m\u001b[38;5;124mhello I am \u001b[39m\u001b[38;5;132;01m{\u001b[39;00m\u001b[38;5;28mself\u001b[39m\u001b[38;5;241m.\u001b[39mname\u001b[38;5;132;01m}\u001b[39;00m\u001b[38;5;124m.I am \u001b[39m\u001b[38;5;132;01m{\u001b[39;00m\u001b[38;5;28mself\u001b[39m\u001b[38;5;241m.\u001b[39mage\u001b[38;5;132;01m}\u001b[39;00m\u001b[38;5;124m.\u001b[39m\u001b[38;5;124m\"\u001b[39m)\n\u001b[0;32m     11\u001b[0m obj\u001b[38;5;241m=\u001b[39mInformation(\u001b[38;5;124m\"\u001b[39m\u001b[38;5;124mram\u001b[39m\u001b[38;5;124m\"\u001b[39m,\u001b[38;5;241m34\u001b[39m,\u001b[38;5;124m\"\u001b[39m\u001b[38;5;124mKathmandu\u001b[39m\u001b[38;5;124m\"\u001b[39m)\n\u001b[1;32m---> 12\u001b[0m \u001b[43mobj\u001b[49m\u001b[38;5;241;43m.\u001b[39;49m\u001b[43minfo\u001b[49m\u001b[43m(\u001b[49m\u001b[43m)\u001b[49m\n\u001b[0;32m     13\u001b[0m \u001b[38;5;28mprint\u001b[39m(obj\u001b[38;5;241m.\u001b[39mname)\n\u001b[0;32m     14\u001b[0m obj\u001b[38;5;241m.\u001b[39mdata\n",
      "Cell \u001b[1;32mIn[10], line 10\u001b[0m, in \u001b[0;36mInformation.info\u001b[1;34m(self)\u001b[0m\n\u001b[0;32m      9\u001b[0m \u001b[38;5;28;01mdef\u001b[39;00m \u001b[38;5;21minfo\u001b[39m(\u001b[38;5;28mself\u001b[39m):\n\u001b[1;32m---> 10\u001b[0m     \u001b[38;5;28mprint\u001b[39m(\u001b[38;5;124mf\u001b[39m\u001b[38;5;124m\"\u001b[39m\u001b[38;5;124mhello I am \u001b[39m\u001b[38;5;132;01m{\u001b[39;00m\u001b[38;5;28mself\u001b[39m\u001b[38;5;241m.\u001b[39mname\u001b[38;5;132;01m}\u001b[39;00m\u001b[38;5;124m.I am \u001b[39m\u001b[38;5;132;01m{\u001b[39;00m\u001b[38;5;28mself\u001b[39m\u001b[38;5;241m.\u001b[39mage\u001b[38;5;132;01m}\u001b[39;00m\u001b[38;5;124m.\u001b[39m\u001b[38;5;124m\"\u001b[39m)\n",
      "\u001b[1;31mAttributeError\u001b[0m: 'Information' object has no attribute 'age'"
     ]
    }
   ],
   "source": [
    "class data:                #parent class\n",
    "    def __init__(self,name,age,add):\n",
    "        self.name=name\n",
    "        self._age=age\n",
    "        self._add=add\n",
    "    def data(self):\n",
    "        print(f\"Hello I am{self.name}.I am from{self._add}.I am {self._age}\")\n",
    "class Information(data):     #clild class\n",
    "    def info(self):\n",
    "        print(f\"hello I am {self.name}.I am {self.age}.\")\n",
    "obj=Information(\"ram\",34,\"Kathmandu\")\n",
    "obj.info()\n",
    "print(obj.name)\n",
    "obj.data"
   ]
  },
  {
   "cell_type": "code",
   "execution_count": 16,
   "id": "a98c3fc1",
   "metadata": {},
   "outputs": [
    {
     "name": "stdout",
     "output_type": "stream",
     "text": [
      "3000\n"
     ]
    }
   ],
   "source": [
    "class point:\n",
    "    def __init__(self,x=0):\n",
    "        self.x=x\n",
    "        \n",
    "    def __str__(self):\n",
    "        return f'{self.x}'\n",
    "    \n",
    "    def __add__(self,other):\n",
    "        x=self.x + other.x\n",
    "        return point(x)\n",
    "\n",
    "p1=point(1000)\n",
    "p2=point(2000)\n",
    "print(p1+p2)"
   ]
  },
  {
   "cell_type": "code",
   "execution_count": 15,
   "id": "0ba54bc1",
   "metadata": {},
   "outputs": [
    {
     "name": "stdout",
     "output_type": "stream",
     "text": [
      "This is init method 1000\n",
      "This is init method 2000\n",
      "This is init method 3000\n",
      "3000\n"
     ]
    }
   ],
   "source": [
    "class point:\n",
    "    def __init__(self,x=0):\n",
    "        self.x=x\n",
    "        print(\"This is init method\",self.x)\n",
    "        \n",
    "    def __str__(self):\n",
    "        return f\"{self.x}\"\n",
    "    \n",
    "    def __add__(self,other):\n",
    "        x=self.x + other.x\n",
    "        return point(x)\n",
    "\n",
    "p1=point(1000)\n",
    "p2=point(2000)\n",
    "print(p1+p2)"
   ]
  },
  {
   "cell_type": "code",
   "execution_count": null,
   "id": "256ffc55",
   "metadata": {},
   "outputs": [],
   "source": []
  }
 ],
 "metadata": {
  "kernelspec": {
   "display_name": "Python 3 (ipykernel)",
   "language": "python",
   "name": "python3"
  },
  "language_info": {
   "codemirror_mode": {
    "name": "ipython",
    "version": 3
   },
   "file_extension": ".py",
   "mimetype": "text/x-python",
   "name": "python",
   "nbconvert_exporter": "python",
   "pygments_lexer": "ipython3",
   "version": "3.10.9"
  }
 },
 "nbformat": 4,
 "nbformat_minor": 5
}
