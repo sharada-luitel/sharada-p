{
 "cells": [
  {
   "cell_type": "code",
   "execution_count": 1,
   "id": "faa8e651",
   "metadata": {},
   "outputs": [],
   "source": [
    "# tuple\n",
    "#-indexing\n",
    "#-ordered\n",
    "# multiple data\n",
    "#imutable"
   ]
  },
  {
   "cell_type": "code",
   "execution_count": 2,
   "id": "40f13d89",
   "metadata": {},
   "outputs": [
    {
     "name": "stdout",
     "output_type": "stream",
     "text": [
      "<class 'tuple'>\n",
      "<class 'tuple'>\n"
     ]
    }
   ],
   "source": [
    "t1=(1,2,3,4,)\n",
    "t2=(\"Apple\",\"Ball\",)\n",
    "print(type(t1))\n",
    "print(type(t2))"
   ]
  },
  {
   "cell_type": "code",
   "execution_count": 3,
   "id": "b19c73af",
   "metadata": {},
   "outputs": [
    {
     "name": "stdout",
     "output_type": "stream",
     "text": [
      "Ball\n"
     ]
    }
   ],
   "source": [
    "t2=(\"Apple\",\"Ball\",)\n",
    "print(t2[1])"
   ]
  },
  {
   "cell_type": "code",
   "execution_count": 4,
   "id": "f6221905",
   "metadata": {},
   "outputs": [],
   "source": [
    "#no edit\n",
    "#no delete"
   ]
  },
  {
   "cell_type": "code",
   "execution_count": 5,
   "id": "c4f08fb9",
   "metadata": {},
   "outputs": [
    {
     "name": "stdout",
     "output_type": "stream",
     "text": [
      "(1, 2, 3, 4, 'Apple', 'Ball')\n"
     ]
    }
   ],
   "source": [
    "t1=(1,2,3,4,)\n",
    "t2=(\"Apple\",\"Ball\",)\n",
    "t=t1+t2\n",
    "print(t)"
   ]
  },
  {
   "cell_type": "code",
   "execution_count": 7,
   "id": "85c93f9c",
   "metadata": {},
   "outputs": [
    {
     "data": {
      "text/plain": [
       "('Apple',)"
      ]
     },
     "execution_count": 7,
     "metadata": {},
     "output_type": "execute_result"
    }
   ],
   "source": [
    "t1=()\n",
    "t2=(\"Apple\",)\n",
    "t=t1+t2\n",
    "t\n"
   ]
  },
  {
   "cell_type": "code",
   "execution_count": 8,
   "id": "babd2454",
   "metadata": {},
   "outputs": [],
   "source": [
    "#no del pop() remove()\n",
    "#no update or edit\n",
    "#no append() insert() extend()"
   ]
  },
  {
   "cell_type": "code",
   "execution_count": 9,
   "id": "00b49147",
   "metadata": {},
   "outputs": [],
   "source": [
    "gender=(\"Male\",\"Female\",\"others\")"
   ]
  },
  {
   "cell_type": "code",
   "execution_count": 10,
   "id": "e358840c",
   "metadata": {},
   "outputs": [
    {
     "data": {
      "text/plain": [
       "['Apple', 'Ball']"
      ]
     },
     "execution_count": 10,
     "metadata": {},
     "output_type": "execute_result"
    }
   ],
   "source": [
    "t2=(\"Apple\",\"Ball\",)\n",
    "list(t2)"
   ]
  },
  {
   "cell_type": "code",
   "execution_count": 11,
   "id": "43452a3c",
   "metadata": {},
   "outputs": [
    {
     "data": {
      "text/plain": [
       "('Ball',)"
      ]
     },
     "execution_count": 11,
     "metadata": {},
     "output_type": "execute_result"
    }
   ],
   "source": [
    "t2=(\"Apple\",\"Ball\",)\n",
    "t=list(t2)\n",
    "del t[0]\n",
    "t=tuple(t)\n",
    "t"
   ]
  },
  {
   "cell_type": "code",
   "execution_count": null,
   "id": "06940557",
   "metadata": {},
   "outputs": [],
   "source": [
    "#mix() min() sum() index()"
   ]
  }
 ],
 "metadata": {
  "kernelspec": {
   "display_name": "Python 3 (ipykernel)",
   "language": "python",
   "name": "python3"
  },
  "language_info": {
   "codemirror_mode": {
    "name": "ipython",
    "version": 3
   },
   "file_extension": ".py",
   "mimetype": "text/x-python",
   "name": "python",
   "nbconvert_exporter": "python",
   "pygments_lexer": "ipython3",
   "version": "3.10.9"
  }
 },
 "nbformat": 4,
 "nbformat_minor": 5
}
