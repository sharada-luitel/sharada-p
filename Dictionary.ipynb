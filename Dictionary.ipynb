{
 "cells": [
  {
   "cell_type": "code",
   "execution_count": 1,
   "id": "c2516b88",
   "metadata": {},
   "outputs": [],
   "source": [
    "#dict\n",
    "#multiple data\n",
    "#Indexing\n",
    "#ordered\n",
    "#Mutable\n"
   ]
  },
  {
   "cell_type": "code",
   "execution_count": 2,
   "id": "829baed7",
   "metadata": {},
   "outputs": [],
   "source": [
    "#d={<key>:<value>,<key>:<value>}"
   ]
  },
  {
   "cell_type": "code",
   "execution_count": 3,
   "id": "a36d0377",
   "metadata": {},
   "outputs": [
    {
     "name": "stdout",
     "output_type": "stream",
     "text": [
      "<class 'dict'>\n",
      "{'a': 'Apple', 'b': 'Ball', 'c': 'cat'}\n",
      "3\n"
     ]
    }
   ],
   "source": [
    "d={'a':'Apple','b':'Ball','c':'cat'}\n",
    "print(type(d))\n",
    "print(d)\n",
    "print(len(d))"
   ]
  },
  {
   "cell_type": "code",
   "execution_count": 4,
   "id": "c43a7803",
   "metadata": {},
   "outputs": [
    {
     "name": "stdout",
     "output_type": "stream",
     "text": [
      "Apple\n",
      "Ball\n"
     ]
    }
   ],
   "source": [
    "d={'a':'Apple','b':'Ball','c':'cat'}\n",
    "print(d['a'])\n",
    "print(d['b'])"
   ]
  },
  {
   "cell_type": "code",
   "execution_count": 7,
   "id": "c8bca34f",
   "metadata": {},
   "outputs": [
    {
     "data": {
      "text/plain": [
       "{'a': 'apple', 'b': 'Ball', 'c': 'cat'}"
      ]
     },
     "execution_count": 7,
     "metadata": {},
     "output_type": "execute_result"
    }
   ],
   "source": [
    "d={'a':'Apple','b':'Ball','c':'cat'}\n",
    "d['a']='apple'\n",
    "d"
   ]
  },
  {
   "cell_type": "code",
   "execution_count": 8,
   "id": "62f4ef83",
   "metadata": {},
   "outputs": [
    {
     "data": {
      "text/plain": [
       "{'a': 'Apple', 'b': 'Ball'}"
      ]
     },
     "execution_count": 8,
     "metadata": {},
     "output_type": "execute_result"
    }
   ],
   "source": [
    "d={}\n",
    "#d=dict\n",
    "d['a']='Apple'\n",
    "d['b']='Ball'\n",
    "d"
   ]
  },
  {
   "cell_type": "code",
   "execution_count": 9,
   "id": "cfa1b80e",
   "metadata": {},
   "outputs": [
    {
     "name": "stdout",
     "output_type": "stream",
     "text": [
      "enter n=2\n",
      "enter name=shyam\n",
      "enter phone=9087\n",
      "enter name=ram\n",
      "enter phone=123\n",
      "{'shyam': '9087', 'ram': '123'}\n"
     ]
    }
   ],
   "source": [
    "d={}\n",
    "n=int(input(\"enter n=\"))\n",
    "for i in range(n):\n",
    "    name=input(\"enter name=\")\n",
    "    phone=input(\"enter phone=\")\n",
    "    d[name]=phone\n",
    "print(d)\n"
   ]
  },
  {
   "cell_type": "code",
   "execution_count": 10,
   "id": "5a4901d6",
   "metadata": {},
   "outputs": [
    {
     "name": "stdout",
     "output_type": "stream",
     "text": [
      "shyam\n",
      "ram\n"
     ]
    }
   ],
   "source": [
    "a={'shyam': '9087', 'ram': '123'}\n",
    "for i in a:\n",
    "    print(i)"
   ]
  },
  {
   "cell_type": "code",
   "execution_count": 11,
   "id": "75f1ba7e",
   "metadata": {},
   "outputs": [
    {
     "name": "stdout",
     "output_type": "stream",
     "text": [
      "9087\n",
      "123\n"
     ]
    }
   ],
   "source": [
    "a={'shyam': '9087', 'ram': '123'}\n",
    "for i in a.values():\n",
    "    print(i)"
   ]
  },
  {
   "cell_type": "code",
   "execution_count": 12,
   "id": "cd426a35",
   "metadata": {},
   "outputs": [
    {
     "name": "stdout",
     "output_type": "stream",
     "text": [
      "('shyam', '9087')\n",
      "('ram', '123')\n"
     ]
    }
   ],
   "source": [
    "a={'shyam': '9087', 'ram': '123'}\n",
    "for i in a.items():\n",
    "    print(i)"
   ]
  },
  {
   "cell_type": "code",
   "execution_count": 13,
   "id": "40871ed0",
   "metadata": {},
   "outputs": [],
   "source": [
    "#del\n",
    "#pop"
   ]
  },
  {
   "cell_type": "code",
   "execution_count": 14,
   "id": "59591a80",
   "metadata": {},
   "outputs": [
    {
     "data": {
      "text/plain": [
       "{'shyam': '9087'}"
      ]
     },
     "execution_count": 14,
     "metadata": {},
     "output_type": "execute_result"
    }
   ],
   "source": [
    "a={'shyam': '9087', 'ram': '123'}\n",
    "del a['ram']\n",
    "a"
   ]
  },
  {
   "cell_type": "code",
   "execution_count": 17,
   "id": "c7ed2cfc",
   "metadata": {},
   "outputs": [
    {
     "name": "stdout",
     "output_type": "stream",
     "text": [
      "{'shyam': '9087'}\n",
      "123\n"
     ]
    }
   ],
   "source": [
    "a={'shyam': '9087', 'ram': '123'}\n",
    "b=a.pop('ram')\n",
    "print(a)\n",
    "print(b)\n"
   ]
  },
  {
   "cell_type": "code",
   "execution_count": 18,
   "id": "4b8ca37c",
   "metadata": {},
   "outputs": [
    {
     "name": "stdout",
     "output_type": "stream",
     "text": [
      "{'name': 'Ram', 'age': 34, 'add': 'ktm'}\n"
     ]
    }
   ],
   "source": [
    "a=[['name','Ram'],['age',34],['add','ktm']]\n",
    "print(dict(a))"
   ]
  },
  {
   "cell_type": "code",
   "execution_count": 19,
   "id": "7b09c733",
   "metadata": {},
   "outputs": [
    {
     "data": {
      "text/plain": [
       "['name', 'age', 'add']"
      ]
     },
     "execution_count": 19,
     "metadata": {},
     "output_type": "execute_result"
    }
   ],
   "source": [
    "a={'name': 'Ram', 'age': 34, 'add': 'ktm'}\n",
    "list(a)"
   ]
  },
  {
   "cell_type": "code",
   "execution_count": 20,
   "id": "1132e6fe",
   "metadata": {},
   "outputs": [
    {
     "data": {
      "text/plain": [
       "['Ram', 34, 'ktm']"
      ]
     },
     "execution_count": 20,
     "metadata": {},
     "output_type": "execute_result"
    }
   ],
   "source": [
    "a={'name': 'Ram', 'age': 34, 'add': 'ktm'}\n",
    "list(a.values())"
   ]
  },
  {
   "cell_type": "code",
   "execution_count": 22,
   "id": "b810d978",
   "metadata": {},
   "outputs": [
    {
     "data": {
      "text/plain": [
       "[('name', 'Ram'), ('age', 34), ('add', 'ktm')]"
      ]
     },
     "execution_count": 22,
     "metadata": {},
     "output_type": "execute_result"
    }
   ],
   "source": [
    "a={'name': 'Ram', 'age': 34, 'add': 'ktm'}\n",
    "list(a.items())"
   ]
  },
  {
   "cell_type": "code",
   "execution_count": 23,
   "id": "54ff1bba",
   "metadata": {},
   "outputs": [],
   "source": [
    "# no + * in dictionary\n"
   ]
  },
  {
   "cell_type": "code",
   "execution_count": 28,
   "id": "8bafb925",
   "metadata": {},
   "outputs": [
    {
     "name": "stdout",
     "output_type": "stream",
     "text": [
      "{'a': 'Apple', 'b': 'Ball'}\n"
     ]
    }
   ],
   "source": [
    "#update()\n",
    "a={'a':'Apple'}\n",
    "b={'b':'Ball'}\n",
    "a.update(b)\n",
    "print(a)"
   ]
  },
  {
   "cell_type": "code",
   "execution_count": null,
   "id": "c4e9a5fb",
   "metadata": {},
   "outputs": [],
   "source": [
    "#list inside dictionary"
   ]
  },
  {
   "cell_type": "code",
   "execution_count": 27,
   "id": "19cabe99",
   "metadata": {},
   "outputs": [
    {
     "name": "stdout",
     "output_type": "stream",
     "text": [
      "{'name': ['Ram', 'Shyam'], 'phone': ['12345', '45678']}\n"
     ]
    }
   ],
   "source": [
    "a={'name':['Ram','Shyam'],\n",
    "  'phone':['12345','45678']}\n",
    "print(a)"
   ]
  },
  {
   "cell_type": "code",
   "execution_count": 1,
   "id": "26ca755c",
   "metadata": {},
   "outputs": [],
   "source": [
    "a={'Ram':[12345,5678],\n",
    "  'Hari':[567,4567]}\n"
   ]
  },
  {
   "cell_type": "code",
   "execution_count": 1,
   "id": "b64aa29a",
   "metadata": {},
   "outputs": [
    {
     "name": "stdout",
     "output_type": "stream",
     "text": [
      "enter n=2\n",
      "enter name=shyam\n",
      "enter phone=12345\n",
      "enter name=hari\n",
      "enter phone=2345\n",
      "{'name': ['shyam', 'hari'], 'phone': ['12345', '2345']}\n"
     ]
    }
   ],
   "source": [
    "a={'name':[],'phone':[]}\n",
    "n=int(input(\"enter n=\"))\n",
    "for i in range(n):\n",
    "    name=input(\"enter name=\")\n",
    "    phone=input(\"enter phone=\")\n",
    "    a['name'].append(name)\n",
    "    a['phone'].append(phone)\n",
    "print(a)"
   ]
  },
  {
   "cell_type": "code",
   "execution_count": 3,
   "id": "412cfc8e",
   "metadata": {},
   "outputs": [
    {
     "name": "stdout",
     "output_type": "stream",
     "text": [
      "['shyam', 'hari']\n",
      "shyam\n"
     ]
    }
   ],
   "source": [
    "a={'name': ['shyam', 'hari'], 'phone': ['12345', '2345']}\n",
    "print(a['name'])\n",
    "print(a['name'][0])\n"
   ]
  },
  {
   "cell_type": "code",
   "execution_count": 4,
   "id": "a1e3ed9b",
   "metadata": {},
   "outputs": [
    {
     "name": "stdout",
     "output_type": "stream",
     "text": [
      "[12345, 5678]\n"
     ]
    }
   ],
   "source": [
    "a={'Ram':[12345,5678],\n",
    "  'Hari':[567,4567]}\n",
    "print(a['Ram'])"
   ]
  },
  {
   "cell_type": "code",
   "execution_count": 6,
   "id": "92e07db1",
   "metadata": {},
   "outputs": [
    {
     "data": {
      "text/plain": [
       "[{'name': 'Ram', 'age': 33}, {'name': 'Shyam', 'age': 22}]"
      ]
     },
     "execution_count": 6,
     "metadata": {},
     "output_type": "execute_result"
    }
   ],
   "source": [
    "#dict inside list\n",
    "a=[{'name':'Ram','age':33},\n",
    "  {'name':'Shyam','age':22}]\n",
    "a"
   ]
  },
  {
   "cell_type": "code",
   "execution_count": 7,
   "id": "2404ac83",
   "metadata": {},
   "outputs": [
    {
     "name": "stdout",
     "output_type": "stream",
     "text": [
      "{'name': 'Shyam', 'age': 22}\n"
     ]
    }
   ],
   "source": [
    "len(a)\n",
    "print(a[1])"
   ]
  },
  {
   "cell_type": "code",
   "execution_count": 8,
   "id": "2875d1e3",
   "metadata": {},
   "outputs": [
    {
     "data": {
      "text/plain": [
       "33"
      ]
     },
     "execution_count": 8,
     "metadata": {},
     "output_type": "execute_result"
    }
   ],
   "source": [
    "a[0]['age']"
   ]
  },
  {
   "cell_type": "code",
   "execution_count": 9,
   "id": "082501c2",
   "metadata": {},
   "outputs": [
    {
     "name": "stdout",
     "output_type": "stream",
     "text": [
      "enter n=2\n",
      "enter name=ram\n",
      "enter age=33\n",
      "enter name=shyam\n",
      "enter age=44\n",
      "[{'name': 'ram', 'age': '33'}, {'name': 'shyam', 'age': '44'}]\n"
     ]
    }
   ],
   "source": [
    "a=[]\n",
    "n=int(input(\"enter n=\"))\n",
    "for i in range(n):\n",
    "    name=input(\"enter name=\")\n",
    "    age=input('enter age=')\n",
    "    d={'name':name,'age':age}\n",
    "    a.append(d)\n",
    "print(a)\n",
    "    "
   ]
  },
  {
   "cell_type": "code",
   "execution_count": 10,
   "id": "886f245f",
   "metadata": {},
   "outputs": [
    {
     "data": {
      "text/plain": [
       "[{'name': 'Rama', 'age': '33'}, {'name': 'shyam', 'age': '44'}]"
      ]
     },
     "execution_count": 10,
     "metadata": {},
     "output_type": "execute_result"
    }
   ],
   "source": [
    "a[0]['name']='Rama'\n",
    "a"
   ]
  },
  {
   "cell_type": "code",
   "execution_count": 11,
   "id": "b3eac3c3",
   "metadata": {},
   "outputs": [
    {
     "data": {
      "text/plain": [
       "'Rama'"
      ]
     },
     "execution_count": 11,
     "metadata": {},
     "output_type": "execute_result"
    }
   ],
   "source": [
    "a[0]['name']\n"
   ]
  },
  {
   "cell_type": "code",
   "execution_count": 12,
   "id": "4c362d6d",
   "metadata": {},
   "outputs": [],
   "source": [
    "#dict inside dict\n"
   ]
  },
  {
   "cell_type": "code",
   "execution_count": 16,
   "id": "b0ade479",
   "metadata": {},
   "outputs": [
    {
     "data": {
      "text/plain": [
       "{'Ram': {'ntc': 13455, 'ncell': 56789, 'landline': 5647},\n",
       " 'Shyam': {'ncell': 98765, 'ntc': 67890, 'landline': 59078}}"
      ]
     },
     "execution_count": 16,
     "metadata": {},
     "output_type": "execute_result"
    }
   ],
   "source": [
    "a={'Ram':{'ntc':13455,'ncell':56789,'landline':5647},\n",
    "  'Shyam':{'ncell':98765,'ntc':67890,'landline':59078}}\n",
    "a"
   ]
  },
  {
   "cell_type": "code",
   "execution_count": 15,
   "id": "6c0214f1",
   "metadata": {},
   "outputs": [
    {
     "name": "stdout",
     "output_type": "stream",
     "text": [
      "13455\n"
     ]
    }
   ],
   "source": [
    "print(a['Ram']['ntc'])"
   ]
  },
  {
   "cell_type": "code",
   "execution_count": 18,
   "id": "b875698e",
   "metadata": {},
   "outputs": [
    {
     "name": "stdout",
     "output_type": "stream",
     "text": [
      "enter n=2\n",
      "enter name=ram\n",
      "enter ntc no=234\n",
      "enter ncell no=456\n",
      "enter landline no=678\n",
      "enter name=shyam\n",
      "enter ntc no=678\n",
      "enter ncell no=098\n",
      "enter landline no=87665\n",
      "{'ram': {'Ntc': '234', 'Ncell': '456', 'Landline': '678'}, 'shyam': {'Ntc': '678', 'Ncell': '098', 'Landline': '87665'}}\n"
     ]
    }
   ],
   "source": [
    "d={}\n",
    "n=int(input(\"enter n=\"))\n",
    "for i in range(n):\n",
    "    name=input(\"enter name=\")\n",
    "    ntc=input(\"enter ntc no=\")\n",
    "    ncell=input(\"enter ncell no=\")\n",
    "    landline=input(\"enter landline no=\")\n",
    "    d[name]={'Ntc':ntc,'Ncell':ncell,'Landline':landline}\n",
    "print(d)"
   ]
  },
  {
   "cell_type": "code",
   "execution_count": null,
   "id": "58e38723",
   "metadata": {},
   "outputs": [],
   "source": []
  }
 ],
 "metadata": {
  "kernelspec": {
   "display_name": "Python 3 (ipykernel)",
   "language": "python",
   "name": "python3"
  },
  "language_info": {
   "codemirror_mode": {
    "name": "ipython",
    "version": 3
   },
   "file_extension": ".py",
   "mimetype": "text/x-python",
   "name": "python",
   "nbconvert_exporter": "python",
   "pygments_lexer": "ipython3",
   "version": "3.10.9"
  }
 },
 "nbformat": 4,
 "nbformat_minor": 5
}
