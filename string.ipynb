{
 "cells": [
  {
   "cell_type": "code",
   "execution_count": 1,
   "id": "114ffc59",
   "metadata": {},
   "outputs": [
    {
     "name": "stdout",
     "output_type": "stream",
     "text": [
      "h\n"
     ]
    }
   ],
   "source": [
    "a=\"hello world\"\n",
    "print(a[0])"
   ]
  },
  {
   "cell_type": "code",
   "execution_count": 2,
   "id": "73fd7879",
   "metadata": {},
   "outputs": [
    {
     "name": "stdout",
     "output_type": "stream",
     "text": [
      "e\n"
     ]
    }
   ],
   "source": [
    "a=\"hello world\"\n",
    "print(a[1])"
   ]
  },
  {
   "cell_type": "code",
   "execution_count": 3,
   "id": "571ca88b",
   "metadata": {},
   "outputs": [
    {
     "name": "stdout",
     "output_type": "stream",
     "text": [
      "h\n",
      "hello worl\n",
      "hlowrd\n"
     ]
    }
   ],
   "source": [
    "a=\"hello world\"\n",
    "print(a[0])\n",
    "print(a[0:10])\n",
    "print(a[0:12:2])"
   ]
  },
  {
   "cell_type": "code",
   "execution_count": 4,
   "id": "7b92c4bf",
   "metadata": {},
   "outputs": [
    {
     "name": "stdout",
     "output_type": "stream",
     "text": [
      "d\n"
     ]
    }
   ],
   "source": [
    "a=\"hello world\"\n",
    "print(a[-1])"
   ]
  },
  {
   "cell_type": "code",
   "execution_count": 9,
   "id": "84a5ace8",
   "metadata": {},
   "outputs": [
    {
     "name": "stdout",
     "output_type": "stream",
     "text": [
      "dlrow olleh\n",
      "dlrow olleh\n"
     ]
    }
   ],
   "source": [
    "a=\"hello world\"\n",
    "print(a[-1::-1])\n",
    "print(a[::-1])"
   ]
  },
  {
   "cell_type": "code",
   "execution_count": 10,
   "id": "9d20e8e7",
   "metadata": {},
   "outputs": [
    {
     "name": "stdout",
     "output_type": "stream",
     "text": [
      "world\n"
     ]
    }
   ],
   "source": [
    "a=\"hello world\"\n",
    "b=a[6:]\n",
    "print(b)"
   ]
  },
  {
   "cell_type": "code",
   "execution_count": 11,
   "id": "5256c4cb",
   "metadata": {},
   "outputs": [
    {
     "name": "stdout",
     "output_type": "stream",
     "text": [
      "11\n"
     ]
    }
   ],
   "source": [
    "a=\"hello world\"\n",
    "print(len(a))"
   ]
  },
  {
   "cell_type": "code",
   "execution_count": 13,
   "id": "86087b76",
   "metadata": {},
   "outputs": [
    {
     "name": "stdout",
     "output_type": "stream",
     "text": [
      "h\n",
      "e\n",
      "l\n",
      "l\n",
      "o\n",
      " \n",
      "w\n",
      "o\n",
      "r\n",
      "l\n",
      "d\n"
     ]
    }
   ],
   "source": [
    "a=\"hello world\"\n",
    "n=len(a)\n",
    "for i in range(n):\n",
    "    print(a[i])"
   ]
  },
  {
   "cell_type": "code",
   "execution_count": 14,
   "id": "19787d2e",
   "metadata": {},
   "outputs": [
    {
     "name": "stdout",
     "output_type": "stream",
     "text": [
      "hello world"
     ]
    }
   ],
   "source": [
    "i=0\n",
    "a=\"hello world\"\n",
    "n=len(a)\n",
    "while i<n:\n",
    "    print(a[i],end=\"\")\n",
    "    i=i+1"
   ]
  },
  {
   "cell_type": "code",
   "execution_count": 16,
   "id": "93ec41cb",
   "metadata": {},
   "outputs": [
    {
     "name": "stdout",
     "output_type": "stream",
     "text": [
      "hello world i mrami m fromKATHMANDUi m 21\n"
     ]
    }
   ],
   "source": [
    "\n",
    "name=\"ram\"\n",
    "age=21\n",
    "add='KATHMANDU'\n",
    "info=\"hello world i m\"+name+ \"i m from\"+add+\"i m \"+str(age)\n",
    "print(info)"
   ]
  },
  {
   "cell_type": "code",
   "execution_count": 17,
   "id": "777bb7f9",
   "metadata": {},
   "outputs": [
    {
     "name": "stdout",
     "output_type": "stream",
     "text": [
      "hello world i m ram. i m from KATHMANDU. i m 21\n"
     ]
    }
   ],
   "source": [
    "#string formatting\n",
    "name=\"ram\"\n",
    "age=21\n",
    "add='KATHMANDU'\n",
    "info=f\"hello world i m {name}. i m from {add}. i m {age}\"\n",
    "print(info)"
   ]
  },
  {
   "cell_type": "code",
   "execution_count": 23,
   "id": "dae32cd1",
   "metadata": {},
   "outputs": [
    {
     "name": "stdout",
     "output_type": "stream",
     "text": [
      "enter the value of n=2\n",
      "enter product name=ball\n",
      "enter price=1000\n",
      "enter quantity=2\n",
      "enter product name=bell\n",
      "enter price=1200\n",
      "enter quantity=3\n",
      "ball 1000 2 2000\n",
      "bell 1200 3 3600\n",
      "\n",
      "all total price= 5600\n"
     ]
    }
   ],
   "source": [
    "bill=\"\"\n",
    "all_total=0\n",
    "n=int(input(\"enter the value of n=\"))\n",
    "for i in range(n):\n",
    "    product=input(\"enter product name=\")\n",
    "    price=int(input(\"enter price=\"))\n",
    "    quantity=int(input(\"enter quantity=\"))\n",
    "    total=price*quantity\n",
    "    all_total=all_total+total\n",
    "    bill=bill+f\"{product} {price} {quantity} {total}\\n\"\n",
    "print(bill)\n",
    "print(\"all total price=\",all_total)"
   ]
  },
  {
   "cell_type": "raw",
   "id": "2ab084f1",
   "metadata": {},
   "source": []
  },
  {
   "cell_type": "code",
   "execution_count": null,
   "id": "77c28568",
   "metadata": {},
   "outputs": [
    {
     "name": "stdout",
     "output_type": "stream",
     "text": [
      "enter the value of n=3\n",
      "enter product name=ball\n",
      "enter price=1200\n",
      "enter quantity=3\n",
      "enter product name=ara\n",
      "enter price=1234\n",
      "enter quantity=2\n"
     ]
    }
   ],
   "source": [
    "bill=\"\"\n",
    "all_total=0\n",
    "n=int(input(\"enter the value of n=\"))\n",
    "for i in range(n):\n",
    "    product=input(\"enter product name=\")\n",
    "    price=int(input(\"enter price=\"))\n",
    "    quantity=int(input(\"enter quantity=\"))\n",
    "    total=price*quantity\n",
    "    all_total=all_total+total\n",
    "    row=f\"{product} {price} {quantity} {total}\\n\"\n",
    "    bill=bill+row\n",
    "print(bill)\n",
    "print(\"all total price=\",all_total)"
   ]
  },
  {
   "cell_type": "code",
   "execution_count": 5,
   "id": "da8cd924",
   "metadata": {},
   "outputs": [
    {
     "name": "stdout",
     "output_type": "stream",
     "text": [
      "enter name=r\n",
      "yes\n"
     ]
    }
   ],
   "source": [
    "#search\n",
    "a=\"ram shyam sita hari\"\n",
    "name=input(\"enter name=\")\n",
    "if \"ram \"in a:\n",
    "    print(\"yes\")\n",
    "    \n",
    "else:\n",
    "    print(\"no\")"
   ]
  },
  {
   "cell_type": "code",
   "execution_count": 11,
   "id": "b265352f",
   "metadata": {},
   "outputs": [
    {
     "name": "stdout",
     "output_type": "stream",
     "text": [
      "enter name=Ram\n",
      "no\n"
     ]
    }
   ],
   "source": [
    "a=\"ram shyam sita hari\"\n",
    "name=input(\"enter name=\")\n",
    "if name in a:\n",
    "    print(\"yes\",a.count(name))\n",
    "else:\n",
    "    print(\"no\")"
   ]
  },
  {
   "cell_type": "code",
   "execution_count": 10,
   "id": "f7643ea9",
   "metadata": {},
   "outputs": [
    {
     "name": "stdout",
     "output_type": "stream",
     "text": [
      "RAM SHYAM SITA HARI\n",
      "ram shyam sita hari\n"
     ]
    }
   ],
   "source": [
    "a=\"ram shyam sita hari\"\n",
    "print(a.upper())\n",
    "print(a.lower())"
   ]
  },
  {
   "cell_type": "code",
   "execution_count": 12,
   "id": "d2dda04e",
   "metadata": {},
   "outputs": [
    {
     "name": "stdout",
     "output_type": "stream",
     "text": [
      "enter name=Ram\n",
      "yes 1\n"
     ]
    }
   ],
   "source": [
    "a=\"ram shyam sita hari\".lower()\n",
    "name=input(\"enter name=\").lower()\n",
    "if name in a:\n",
    "    print(\"yes\",a.count(name))\n",
    "else:\n",
    "    print(\"no\")"
   ]
  },
  {
   "cell_type": "code",
   "execution_count": 14,
   "id": "bf6a7c8b",
   "metadata": {},
   "outputs": [
    {
     "name": "stdout",
     "output_type": "stream",
     "text": [
      "ram Shyam Hari Sita Gita ram\n",
      "Ram Shyam Hari Sita Gita Ram\n"
     ]
    }
   ],
   "source": [
    "#edit delete replace\n",
    "a=\"Ram Shyam Hari Sita Gita Ram\"\n",
    "print(a.replace(\"Ram\",\"ram\"))\n",
    "print(a)"
   ]
  },
  {
   "cell_type": "code",
   "execution_count": 15,
   "id": "fda14993",
   "metadata": {},
   "outputs": [
    {
     "name": "stdout",
     "output_type": "stream",
     "text": [
      "ram Shyam Hari Sita Gita Ram\n",
      "Ram Shyam Hari Sita Gita Ram\n"
     ]
    }
   ],
   "source": [
    "#edit delete replace\n",
    "a=\"Ram Shyam Hari Sita Gita Ram\"\n",
    "print(a.replace(\"Ram \",\"ram \"))\n",
    "print(a)"
   ]
  },
  {
   "cell_type": "code",
   "execution_count": 17,
   "id": "b7c05346",
   "metadata": {
    "scrolled": true
   },
   "outputs": [
    {
     "name": "stdout",
     "output_type": "stream",
     "text": [
      " Shyam Hari Sita Gita Ram\n",
      "Ram Shyam Hari Sita Gita Ram\n"
     ]
    }
   ],
   "source": [
    "a=\"Ram Shyam Hari Sita Gita Ram\"\n",
    "print(a.replace(\"Ram \",\" \"))\n",
    "print(a)"
   ]
  },
  {
   "cell_type": "code",
   "execution_count": 20,
   "id": "a023da1d",
   "metadata": {},
   "outputs": [
    {
     "name": "stdout",
     "output_type": "stream",
     "text": [
      "enter name=asd\n",
      "enter physic=1\n",
      "enter math=2\n",
      "enter chemistry=3\n",
      "enter english=4\n",
      "enter nepali=5\n",
      "Total 15\n",
      "Per 3.0\n",
      "Grade F\n"
     ]
    }
   ],
   "source": [
    "name=input(\"enter name=\")\n",
    "physic=int(input(\"enter physic=\"))\n",
    "math=int(input(\"enter math=\"))\n",
    "chemistry=int(input(\"enter chemistry=\"))\n",
    "english=int(input(\"enter english=\"))\n",
    "nepali=int(input(\"enter nepali=\"))\n",
    "total=physic+math+chemistry+english+nepali\n",
    "per=total/5\n",
    "if per>=80:\n",
    "    grade=\"A\"\n",
    "elif per >=60:\n",
    "    grade=\"B\"\n",
    "elif per>=40:\n",
    "    grade=\"c\"\n",
    "else:\n",
    "    grade=\"F\"\n",
    "print(\"Total\",total)\n",
    "print(\"Per\",per)\n",
    "print(\"Grade\",grade)"
   ]
  },
  {
   "cell_type": "code",
   "execution_count": 3,
   "id": "503f9936",
   "metadata": {},
   "outputs": [
    {
     "name": "stdout",
     "output_type": "stream",
     "text": [
      "enter n=2\n",
      "enter name=ram\n",
      "enter physic=1\n",
      "enter math=2\n",
      "enter chemistry=3\n",
      "enter english=4\n",
      "enter nepali=5\n",
      "enter name=shyam\n",
      "enter physic=5\n",
      "enter math=6\n",
      "enter chemistry=7\n",
      "enter english=8\n",
      "enter nepali=9\n",
      "ram1324515F3.0\n",
      "shyam5768935F7.0\n",
      "\n"
     ]
    }
   ],
   "source": [
    "i=0\n",
    "result=\"\"\n",
    "n=int(input(\"enter n=\"))\n",
    "while i<n:\n",
    "    name=input(\"enter name=\")\n",
    "    physic=int(input(\"enter physic=\"))\n",
    "    math=int(input(\"enter math=\"))\n",
    "    chemistry=int(input(\"enter chemistry=\"))\n",
    "    english=int(input(\"enter english=\"))\n",
    "    nepali=int(input(\"enter nepali=\"))\n",
    "    total=physic+math+chemistry+english+nepali\n",
    "    per=total/5\n",
    "    if per>=80:\n",
    "        grade=\"A\"\n",
    "    elif per >=60:\n",
    "        grade=\"B\"\n",
    "    elif per>=40:\n",
    "        grade=\"c\"\n",
    "    else:\n",
    "        grade=\"F\"\n",
    "    result=result+f\"{name}{physic}{chemistry}{math}{english}{nepali}{total}{grade}{per}\\n\"\n",
    "    i=i+1\n",
    "print(result)"
   ]
  },
  {
   "cell_type": "markdown",
   "id": "4515a20b",
   "metadata": {},
   "source": []
  },
  {
   "cell_type": "raw",
   "id": "01989edf",
   "metadata": {},
   "source": [
    "a=input(\"enter number=\")\n",
    "b=a[::-1]\n",
    "if a==b:\n",
    "    print(\"this is palindrome\")\n",
    "else:\n",
    "    print(\"this is not\")"
   ]
  },
  {
   "cell_type": "code",
   "execution_count": 2,
   "id": "5dc6fe42",
   "metadata": {},
   "outputs": [
    {
     "name": "stdout",
     "output_type": "stream",
     "text": [
      "enter number=123\n",
      "this is not\n"
     ]
    }
   ],
   "source": [
    "a=input(\"enter number=\")\n",
    "b=a[::-1]\n",
    "if a==b:\n",
    "    print(\"this is palindrome\")\n",
    "else:\n",
    "    print(\"this is not\")"
   ]
  },
  {
   "cell_type": "code",
   "execution_count": 5,
   "id": "e4b36831",
   "metadata": {},
   "outputs": [
    {
     "name": "stdout",
     "output_type": "stream",
     "text": [
      "prime\n"
     ]
    }
   ],
   "source": [
    "x=int(input(\"enter x=\"))\n",
    "for i in range(2,x):\n",
    "    if x%i==0:\n",
    "        print(\"composite\")\n",
    "        break\n",
    "else:\n",
    "    print(\"prime\")"
   ]
  },
  {
   "cell_type": "code",
   "execution_count": 6,
   "id": "1f9e896d",
   "metadata": {},
   "outputs": [
    {
     "name": "stdout",
     "output_type": "stream",
     "text": [
      "enter x=45\n",
      "composite\n"
     ]
    }
   ],
   "source": [
    "x=int(input(\"enter x=\"))\n",
    "if x>=2:\n",
    "    for i in range(2,x):\n",
    "        if x%i==0:\n",
    "            print(\"composite\")\n",
    "            break\n",
    "    else:\n",
    "        print(\"prime\")\n",
    "else:\n",
    "    print(\"the should>=2\")"
   ]
  },
  {
   "cell_type": "code",
   "execution_count": null,
   "id": "ad060edc",
   "metadata": {},
   "outputs": [],
   "source": []
  },
  {
   "cell_type": "code",
   "execution_count": null,
   "id": "693544f8",
   "metadata": {},
   "outputs": [],
   "source": []
  }
 ],
 "metadata": {
  "kernelspec": {
   "display_name": "Python 3 (ipykernel)",
   "language": "python",
   "name": "python3"
  },
  "language_info": {
   "codemirror_mode": {
    "name": "ipython",
    "version": 3
   },
   "file_extension": ".py",
   "mimetype": "text/x-python",
   "name": "python",
   "nbconvert_exporter": "python",
   "pygments_lexer": "ipython3",
   "version": "3.10.9"
  }
 },
 "nbformat": 4,
 "nbformat_minor": 5
}
