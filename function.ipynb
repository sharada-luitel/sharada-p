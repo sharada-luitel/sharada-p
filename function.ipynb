{
 "cells": [
  {
   "cell_type": "code",
   "execution_count": 3,
   "id": "2181ba34",
   "metadata": {},
   "outputs": [],
   "source": [
    "# predefined function\n",
    "#print() type() int() str() list() tuple() dict()"
   ]
  },
  {
   "cell_type": "code",
   "execution_count": null,
   "id": "3e8047b0",
   "metadata": {},
   "outputs": [],
   "source": [
    "a=10"
   ]
  },
  {
   "cell_type": "code",
   "execution_count": 4,
   "id": "09849c58",
   "metadata": {},
   "outputs": [
    {
     "ename": "SyntaxError",
     "evalue": "invalid syntax (700010125.py, line 1)",
     "output_type": "error",
     "traceback": [
      "\u001b[1;36m  Cell \u001b[1;32mIn[4], line 1\u001b[1;36m\u001b[0m\n\u001b[1;33m    def <function_name>():  #define function\u001b[0m\n\u001b[1;37m        ^\u001b[0m\n\u001b[1;31mSyntaxError\u001b[0m\u001b[1;31m:\u001b[0m invalid syntax\n"
     ]
    }
   ],
   "source": [
    "def <function_name>():  #define function\n",
    "    <operation>\n",
    "<function_name>()      #call function\n"
   ]
  },
  {
   "cell_type": "code",
   "execution_count": 2,
   "id": "2f9f9d78",
   "metadata": {},
   "outputs": [
    {
     "name": "stdout",
     "output_type": "stream",
     "text": [
      "hello world\n"
     ]
    }
   ],
   "source": [
    "def hello():\n",
    "    print(\"hello world\")\n",
    "hello()"
   ]
  },
  {
   "cell_type": "code",
   "execution_count": null,
   "id": "ab83681c",
   "metadata": {},
   "outputs": [],
   "source": [
    "def cal():\n",
    "    l=int(input(\"enter l=\"))    #local variable\n",
    "    b=int(input(\"enter b=\"))\n",
    "    h=int(input(\"enter h=\"))\n",
    "    a=l*b\n",
    "    v=a*h\n",
    "    print(a)\n",
    "    print(v)\n",
    "cal()"
   ]
  },
  {
   "cell_type": "code",
   "execution_count": 3,
   "id": "8f6fdf58",
   "metadata": {},
   "outputs": [
    {
     "name": "stdout",
     "output_type": "stream",
     "text": [
      "enter l=2\n",
      "enter b=3\n",
      "enter h=4\n",
      "6\n",
      "24\n"
     ]
    }
   ],
   "source": [
    "def cal():\n",
    "    a=l*b\n",
    "    v=a*h\n",
    "    print(a)\n",
    "    print(v)\n",
    "l=int(input(\"enter l=\"))    #global variable\n",
    "b=int(input(\"enter b=\"))\n",
    "h=int(input(\"enter h=\"))  \n",
    "cal()"
   ]
  },
  {
   "cell_type": "code",
   "execution_count": 4,
   "id": "041c3d07",
   "metadata": {},
   "outputs": [
    {
     "name": "stdout",
     "output_type": "stream",
     "text": [
      "enter l=2\n",
      "enter b=3\n",
      "enter h=4\n",
      "The value of a= 6\n",
      "The value of b= 24\n"
     ]
    }
   ],
   "source": [
    "def cal():\n",
    "    global a,v\n",
    "    l=int(input(\"enter l=\"))    #local variable\n",
    "    b=int(input(\"enter b=\"))\n",
    "    h=int(input(\"enter h=\"))\n",
    "    a=l*b\n",
    "    v=a*h\n",
    "cal()\n",
    "print(\"The value of a=\",a)\n",
    "print(\"The value of b=\",v)\n"
   ]
  },
  {
   "cell_type": "code",
   "execution_count": 5,
   "id": "e71340a3",
   "metadata": {},
   "outputs": [],
   "source": [
    "#function without argument an d no return type\n",
    "#funtion with argument an d no return type\n",
    "#function without argument and return type\n",
    "#function argument and return type"
   ]
  },
  {
   "cell_type": "code",
   "execution_count": 7,
   "id": "24786f13",
   "metadata": {
    "scrolled": true
   },
   "outputs": [
    {
     "name": "stdout",
     "output_type": "stream",
     "text": [
      "Hello world\n"
     ]
    }
   ],
   "source": [
    "def hello(x):    #parameter\n",
    "    print(x)\n",
    "hello(\"Hello world\")#argument"
   ]
  },
  {
   "cell_type": "markdown",
   "id": "e1b5a54a",
   "metadata": {},
   "source": [
    "def cal(l,b,h):  #cal(x,y,z)\n",
    "    a=l*b     #a=x*y\n",
    "    v=a*h     \n",
    "    v=a*z\n",
    "    print(a)\n",
    "    print(v)\n",
    "l=int(input(\"enter l=\"))    #global variable\n",
    "b=int(input(\"enter b=\"))\n",
    "h=int(input(\"enter h=\"))  \n",
    "cal(l,b,h)"
   ]
  },
  {
   "cell_type": "code",
   "execution_count": 11,
   "id": "ffdf66bc",
   "metadata": {},
   "outputs": [
    {
     "name": "stdout",
     "output_type": "stream",
     "text": [
      "Hello world\n"
     ]
    }
   ],
   "source": [
    "def hello():    \n",
    "    x=\"Hello world\"\n",
    "    return x\n",
    "print(hello())"
   ]
  },
  {
   "cell_type": "code",
   "execution_count": 12,
   "id": "cdeda450",
   "metadata": {},
   "outputs": [
    {
     "name": "stdout",
     "output_type": "stream",
     "text": [
      "Hello worldHello world\n"
     ]
    }
   ],
   "source": [
    "def hello():    \n",
    "    x=\"Hello world\"\n",
    "    return x\n",
    "y=hello()*2\n",
    "print(y)"
   ]
  },
  {
   "cell_type": "code",
   "execution_count": 16,
   "id": "dd6ba8c5",
   "metadata": {},
   "outputs": [
    {
     "name": "stdout",
     "output_type": "stream",
     "text": [
      "enter l=3\n",
      "enter b=5\n",
      "enter h=6\n",
      "The value of a= 15\n",
      "The value of b= 90\n"
     ]
    }
   ],
   "source": [
    "def cal():\n",
    "    l=int(input(\"enter l=\"))    #local variable\n",
    "    b=int(input(\"enter b=\"))\n",
    "    h=int(input(\"enter h=\"))\n",
    "    a=l*b\n",
    "    v=a*h\n",
    "    return a,v\n",
    "area,volume=cal()\n",
    "print(\"The value of a=\",area)\n",
    "print(\"The value of b=\",volume)\n"
   ]
  },
  {
   "cell_type": "code",
   "execution_count": 17,
   "id": "690ef4de",
   "metadata": {},
   "outputs": [
    {
     "name": "stdout",
     "output_type": "stream",
     "text": [
      "enter h=3\n",
      "enter l=1\n",
      "enter b=2\n",
      "The value of a= 2\n",
      "The value of b= 6\n"
     ]
    }
   ],
   "source": [
    "def cal():\n",
    "    l=int(input(\"enter l=\"))    #local variable\n",
    "    b=int(input(\"enter b=\"))\n",
    "    a=l*b\n",
    "    return a\n",
    "h=int(input(\"enter h=\"))\n",
    "area=cal()\n",
    "volume=area*h\n",
    "print(\"The value of a=\",area)\n",
    "print(\"The value of b=\",volume)"
   ]
  },
  {
   "cell_type": "code",
   "execution_count": 18,
   "id": "28866898",
   "metadata": {},
   "outputs": [
    {
     "name": "stdout",
     "output_type": "stream",
     "text": [
      "enter l=2\n",
      "enter b=3\n",
      "enter h=4\n",
      "The value of a= 6\n",
      "The value of b= 24\n"
     ]
    }
   ],
   "source": [
    "def cal(l,b):\n",
    "    a=l*b\n",
    "    return a\n",
    "l=int(input(\"enter l=\"))    #local variable\n",
    "b=int(input(\"enter b=\"))\n",
    "h=int(input(\"enter h=\"))\n",
    "area=cal(l,b)\n",
    "volume=area*h\n",
    "print(\"The value of a=\",area)\n",
    "print(\"The value of b=\",volume)"
   ]
  },
  {
   "cell_type": "code",
   "execution_count": 1,
   "id": "4797c26e",
   "metadata": {},
   "outputs": [
    {
     "ename": "SyntaxError",
     "evalue": "expected ':' (2768247760.py, line 8)",
     "output_type": "error",
     "traceback": [
      "\u001b[1;36m  Cell \u001b[1;32mIn[1], line 8\u001b[1;36m\u001b[0m\n\u001b[1;33m    for i in range()\u001b[0m\n\u001b[1;37m                    ^\u001b[0m\n\u001b[1;31mSyntaxError\u001b[0m\u001b[1;31m:\u001b[0m expected ':'\n"
     ]
    }
   ],
   "source": [
    "def cal():\n",
    "    l=int(input(\"enter l=\"))    #local variable\n",
    "    b=int(input(\"enter b=\"))\n",
    "    h=int(input(\"enter h=\"))\n",
    "    a=l*b\n",
    "    v=a*h\n",
    "    return a,v\n",
    "for i in range()\n",
    "area=cal()\n",
    "volume=area*h\n",
    "print(\"The value of a=\",area)\n",
    "print(\"The value of b=\",volume)\n"
   ]
  },
  {
   "cell_type": "code",
   "execution_count": 3,
   "id": "f1ade34a",
   "metadata": {},
   "outputs": [
    {
     "name": "stdout",
     "output_type": "stream",
     "text": [
      "hello world\n",
      "eneter y for moe print y\n",
      "hello world\n",
      "eneter y for moe print y\n",
      "hello world\n",
      "eneter y for moe print y\n",
      "hello world\n",
      "eneter y for moe print y\n",
      "hello world\n",
      "eneter y for moe print z\n"
     ]
    }
   ],
   "source": [
    "#recursive function\n",
    "def hello():\n",
    "    print(\"hello world\")\n",
    "    x=input(\"eneter y for moe print \")\n",
    "    if x==\"y\":\n",
    "        hello()\n",
    "hello()\n"
   ]
  },
  {
   "cell_type": "code",
   "execution_count": 4,
   "id": "e0079f60",
   "metadata": {},
   "outputs": [
    {
     "name": "stdout",
     "output_type": "stream",
     "text": [
      "3.141592653589793\n",
      "enter radius=4\n",
      "50.26548245743669\n"
     ]
    }
   ],
   "source": [
    "#math function\n",
    "import math as m\n",
    "print(m.pi)\n",
    "r=float(input(\"enter radius=\"))\n",
    "a=m.pi*m.pow(r,2)\n",
    "print(a)\n"
   ]
  },
  {
   "cell_type": "code",
   "execution_count": 5,
   "id": "467087f8",
   "metadata": {},
   "outputs": [
    {
     "data": {
      "text/plain": [
       "120"
      ]
     },
     "execution_count": 5,
     "metadata": {},
     "output_type": "execute_result"
    }
   ],
   "source": [
    "m.factorial(5)"
   ]
  },
  {
   "cell_type": "code",
   "execution_count": 6,
   "id": "be4ac76f",
   "metadata": {},
   "outputs": [
    {
     "name": "stdout",
     "output_type": "stream",
     "text": [
      "0.8939966636005579\n",
      "-0.4480736161291701\n"
     ]
    }
   ],
   "source": [
    "print(m.sin(90))\n",
    "print(m.cos(90))"
   ]
  },
  {
   "cell_type": "code",
   "execution_count": 7,
   "id": "d2fed27d",
   "metadata": {},
   "outputs": [
    {
     "name": "stdout",
     "output_type": "stream",
     "text": [
      "1.0\n",
      "6.123233995736766e-17\n"
     ]
    }
   ],
   "source": [
    "print(m.sin(m.pi/2))\n",
    "print(m.cos(m.pi/2))"
   ]
  },
  {
   "cell_type": "code",
   "execution_count": null,
   "id": "4391e782",
   "metadata": {},
   "outputs": [],
   "source": []
  }
 ],
 "metadata": {
  "kernelspec": {
   "display_name": "Python 3 (ipykernel)",
   "language": "python",
   "name": "python3"
  },
  "language_info": {
   "codemirror_mode": {
    "name": "ipython",
    "version": 3
   },
   "file_extension": ".py",
   "mimetype": "text/x-python",
   "name": "python",
   "nbconvert_exporter": "python",
   "pygments_lexer": "ipython3",
   "version": "3.10.9"
  }
 },
 "nbformat": 4,
 "nbformat_minor": 5
}
