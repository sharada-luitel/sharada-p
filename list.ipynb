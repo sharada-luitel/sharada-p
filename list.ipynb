{
 "cells": [
  {
   "cell_type": "code",
   "execution_count": 1,
   "id": "c6dbcc01",
   "metadata": {},
   "outputs": [],
   "source": [
    "#python collection\n",
    "#list\n",
    "#tupple\n",
    "#dictioonary\n",
    "#set\n"
   ]
  },
  {
   "cell_type": "code",
   "execution_count": 2,
   "id": "9cab5bd5",
   "metadata": {},
   "outputs": [],
   "source": [
    "##list\n",
    "#-multiple and duplicate\n",
    "#-indexing\n",
    "#-ordered\n",
    "#-mutable\n"
   ]
  },
  {
   "cell_type": "code",
   "execution_count": 3,
   "id": "a97c5de7",
   "metadata": {},
   "outputs": [],
   "source": [
    "a=[]\n",
    "a=list()"
   ]
  },
  {
   "cell_type": "code",
   "execution_count": 4,
   "id": "c636a51f",
   "metadata": {},
   "outputs": [
    {
     "name": "stdout",
     "output_type": "stream",
     "text": [
      "<class 'list'>\n"
     ]
    }
   ],
   "source": [
    "a=[\"Apple\",\"Ball\",\"cat\",\"Dog\"]\n",
    "b=[1,2,3,4,5,4]\n",
    "print(type(a))"
   ]
  },
  {
   "cell_type": "code",
   "execution_count": 9,
   "id": "232f2513",
   "metadata": {},
   "outputs": [
    {
     "name": "stdout",
     "output_type": "stream",
     "text": [
      "Apple\n",
      "egg\n",
      "['Apple', 'Ball', 'cat', 'Dog']\n",
      "['Apple', 'cat', 'egg']\n",
      "['Apple', 'cat', 'egg']\n"
     ]
    }
   ],
   "source": [
    "a=[\"Apple\",\"Ball\",\"cat\",\"Dog\",\"egg\"]\n",
    "print(a[0])\n",
    "print(a[-1])\n",
    "print(a[0:4])\n",
    "print(a[0:5:2])\n",
    "print(a[::2])"
   ]
  },
  {
   "cell_type": "code",
   "execution_count": 10,
   "id": "a31463e7",
   "metadata": {},
   "outputs": [
    {
     "data": {
      "text/plain": [
       "['apple', 'Ball', 'cat', 'Dog', 'egg']"
      ]
     },
     "execution_count": 10,
     "metadata": {},
     "output_type": "execute_result"
    }
   ],
   "source": [
    "a=[\"Apple\",\"Ball\",\"cat\",\"Dog\",\"egg\"]\n",
    "a[0]=\"apple\"#mutable\n",
    "a"
   ]
  },
  {
   "cell_type": "code",
   "execution_count": 11,
   "id": "96c99343",
   "metadata": {},
   "outputs": [
    {
     "name": "stdout",
     "output_type": "stream",
     "text": [
      "['Apple', 'Ball', 'cat', 'Dog', 'egg', 'lion', 'Dog']\n"
     ]
    }
   ],
   "source": [
    "a=[\"Apple\",\"Ball\",\"cat\",\"Dog\",\"egg\"]\n",
    "b=[\"lion\",\"Dog\"]\n",
    "c=a+b\n",
    "print(c)"
   ]
  },
  {
   "cell_type": "code",
   "execution_count": 12,
   "id": "1689bbb4",
   "metadata": {},
   "outputs": [
    {
     "name": "stdout",
     "output_type": "stream",
     "text": [
      "['Apple', 'Ball', 'cat', 'Dog', 'egg', 'Apple', 'Ball', 'cat', 'Dog', 'egg', 'Apple', 'Ball', 'cat', 'Dog', 'egg']\n"
     ]
    }
   ],
   "source": [
    "a=[\"Apple\",\"Ball\",\"cat\",\"Dog\",\"egg\"]\n",
    "print(a*3)"
   ]
  },
  {
   "cell_type": "code",
   "execution_count": 13,
   "id": "6698f621",
   "metadata": {},
   "outputs": [
    {
     "data": {
      "text/plain": [
       "['Apple', 'Ball']"
      ]
     },
     "execution_count": 13,
     "metadata": {},
     "output_type": "execute_result"
    }
   ],
   "source": [
    "a=[]\n",
    "b=[\"Apple\"]\n",
    "c=a+b\n",
    "c+[\"Ball\"]"
   ]
  },
  {
   "cell_type": "code",
   "execution_count": 16,
   "id": "1a36cff4",
   "metadata": {},
   "outputs": [
    {
     "name": "stdout",
     "output_type": "stream",
     "text": [
      "enter n=3\n",
      "Enter x=2\n",
      "Enter x=3\n",
      "Enter x=4\n",
      "Enter x=5\n",
      "Enter x=6\n",
      "[2, 3, 4, 5, 6]\n"
     ]
    }
   ],
   "source": [
    "l=[] \n",
    "n=int(input(\"enter n=\"))\n",
    "for i in range(5):\n",
    "    x=int(input(\"Enter x=\"))\n",
    "    l=l+[x]\n",
    "print(l)"
   ]
  },
  {
   "cell_type": "code",
   "execution_count": 21,
   "id": "2d2ca071",
   "metadata": {},
   "outputs": [
    {
     "name": "stdout",
     "output_type": "stream",
     "text": [
      "The sum of all no= 20\n",
      "The max value = 6\n",
      "The min value = 2\n",
      "The average value= 6.666666666666667\n",
      "[2, 3, 4, 5, 6]\n",
      "[6, 5, 4, 3, 2]\n"
     ]
    }
   ],
   "source": [
    "print(\"The sum of all no=\",sum(l))\n",
    "print(\"The max value =\",max(l))\n",
    "print(\"The min value =\",min(l))\n",
    "print(\"The average value=\",sum(l)/n)\n",
    "l.sort()\n",
    "print(l)\n",
    "l.reverse()\n",
    "print(l)"
   ]
  },
  {
   "cell_type": "code",
   "execution_count": 22,
   "id": "c9a9add9",
   "metadata": {},
   "outputs": [
    {
     "name": "stdout",
     "output_type": "stream",
     "text": [
      "['Apple,Ball', 'Cat', 'cat']\n"
     ]
    }
   ],
   "source": [
    "a=[\"Apple\",\"Ball\",\"Cat\",\"cat\"]\n",
    "a.sort()\n",
    "print(a)"
   ]
  },
  {
   "cell_type": "code",
   "execution_count": 25,
   "id": "d074b759",
   "metadata": {},
   "outputs": [
    {
     "name": "stdout",
     "output_type": "stream",
     "text": [
      "Apple\n",
      "Ball\n",
      "Cat\n",
      "cat\n"
     ]
    }
   ],
   "source": [
    "a=[\"Apple\",\"Ball\",\"Cat\",\"cat\"]\n",
    "for i in a:\n",
    "    print(i)"
   ]
  },
  {
   "cell_type": "code",
   "execution_count": 28,
   "id": "13229851",
   "metadata": {},
   "outputs": [
    {
     "name": "stdout",
     "output_type": "stream",
     "text": [
      "Yes\n",
      "1\n"
     ]
    }
   ],
   "source": [
    "a=[\"Apple\",\"Ball\",\"Cat\",\"cat\"]\n",
    "if \"Apple\" in a:\n",
    "    print(\"Yes\")\n",
    "    print(a.count(\"Apple\"))\n",
    "else:\n",
    "    print(\"No\")"
   ]
  },
  {
   "cell_type": "code",
   "execution_count": 30,
   "id": "b2e4d3a3",
   "metadata": {},
   "outputs": [],
   "source": [
    "#input value\n",
    "#append()\n",
    "#insert()\n",
    "#extend()\n",
    "\n",
    "#delete\n",
    "#del\n",
    "#remove()\n",
    "#pop()"
   ]
  },
  {
   "cell_type": "code",
   "execution_count": 32,
   "id": "ae5db2d8",
   "metadata": {},
   "outputs": [
    {
     "name": "stdout",
     "output_type": "stream",
     "text": [
      "['Apple', 'Ball', 'Cat', 'cat', 'Apple2']\n"
     ]
    }
   ],
   "source": [
    "a=[\"Apple\",\"Ball\",\"Cat\",\"cat\"]\n",
    "a.append(\"Apple2\")\n",
    "print(a)"
   ]
  },
  {
   "cell_type": "code",
   "execution_count": 37,
   "id": "114f52a9",
   "metadata": {},
   "outputs": [
    {
     "data": {
      "text/plain": [
       "['Apple', 'Ball', 'Dog', 'Cat', 'cat']"
      ]
     },
     "execution_count": 37,
     "metadata": {},
     "output_type": "execute_result"
    }
   ],
   "source": [
    "a=[\"Apple\",\"Ball\",\"Cat\",\"cat\"]\n",
    "a.insert(2,\"Dog\")\n",
    "a"
   ]
  },
  {
   "cell_type": "code",
   "execution_count": 40,
   "id": "bab4b624",
   "metadata": {},
   "outputs": [
    {
     "name": "stdout",
     "output_type": "stream",
     "text": [
      "['Apple', 'Ball', 'Cat', 'cat', 1, 2, 3, 4]\n"
     ]
    }
   ],
   "source": [
    "a=[\"Apple\",\"Ball\",\"Cat\",\"cat\"]\n",
    "b=[1,2,3,4]\n",
    "a.extend(b)\n",
    "print(a)"
   ]
  },
  {
   "cell_type": "code",
   "execution_count": 46,
   "id": "a5690ab7",
   "metadata": {},
   "outputs": [
    {
     "data": {
      "text/plain": [
       "['cat']"
      ]
     },
     "execution_count": 46,
     "metadata": {},
     "output_type": "execute_result"
    }
   ],
   "source": [
    "a=[\"Apple\",\"Ball\",\"Cat\",\"cat\"]\n",
    "del a[0:3]\n",
    "a"
   ]
  },
  {
   "cell_type": "code",
   "execution_count": 49,
   "id": "f03c747f",
   "metadata": {},
   "outputs": [
    {
     "name": "stdout",
     "output_type": "stream",
     "text": [
      "['Ball', 'Cat', 'cat']\n",
      "Apple\n"
     ]
    }
   ],
   "source": [
    "a=[\"Apple\",\"Ball\",\"Cat\",\"cat\"]\n",
    "b=a.pop(0)#b=[a.pop(0)]\n",
    "print(a)\n",
    "print(b)"
   ]
  },
  {
   "cell_type": "code",
   "execution_count": 50,
   "id": "5f2acada",
   "metadata": {},
   "outputs": [
    {
     "data": {
      "text/plain": [
       "['Ball', 'Cat', 'cat']"
      ]
     },
     "execution_count": 50,
     "metadata": {},
     "output_type": "execute_result"
    }
   ],
   "source": [
    "a=[\"Apple\",\"Ball\",\"Cat\",\"cat\"]\n",
    "a.remove(\"Apple\")\n",
    "a"
   ]
  },
  {
   "cell_type": "code",
   "execution_count": 8,
   "id": "349f7ef4",
   "metadata": {},
   "outputs": [
    {
     "name": "stdout",
     "output_type": "stream",
     "text": [
      "enter value=\n"
     ]
    },
    {
     "data": {
      "text/plain": [
       "['Apple', 'Ball', 'Cat', 'cat']"
      ]
     },
     "execution_count": 8,
     "metadata": {},
     "output_type": "execute_result"
    }
   ],
   "source": [
    "a=[\"Apple\",\"Ball\",\"Cat\",\"cat\"]\n",
    "value=input(\"enter value=\")\n",
    "l=a.count(value)\n",
    "for i in range(l):\n",
    "    a.remove(value)\n",
    "a"
   ]
  },
  {
   "cell_type": "code",
   "execution_count": 12,
   "id": "8d364a0e",
   "metadata": {},
   "outputs": [
    {
     "name": "stdout",
     "output_type": "stream",
     "text": [
      "3\n"
     ]
    }
   ],
   "source": [
    "\n",
    "#list inside list\n",
    "a=[[1,2,3],\n",
    "  [4,5,6],\n",
    "  [7,8,9]]\n",
    "print(len(a))\n",
    "\n",
    "\n"
   ]
  },
  {
   "cell_type": "code",
   "execution_count": 13,
   "id": "871814d0",
   "metadata": {},
   "outputs": [
    {
     "data": {
      "text/plain": [
       "[['Ram', 56, 'kathmandu'],\n",
       " ['shyam', 67, 'bhaktapur'],\n",
       " ['gita', 89, 'lalitpur']]"
      ]
     },
     "execution_count": 13,
     "metadata": {},
     "output_type": "execute_result"
    }
   ],
   "source": [
    "a=[[\"Ram\",56,\"kathmandu\"],\n",
    "  [\"shyam\",67,\"bhaktapur\"],\n",
    "  [\"gita\",89,\"lalitpur\"]]\n",
    "a"
   ]
  },
  {
   "cell_type": "code",
   "execution_count": 15,
   "id": "cffe277f",
   "metadata": {},
   "outputs": [
    {
     "name": "stdout",
     "output_type": "stream",
     "text": [
      "['gita', 89, 'lalitpur']\n"
     ]
    }
   ],
   "source": [
    "print(a[2])"
   ]
  },
  {
   "cell_type": "code",
   "execution_count": 16,
   "id": "59325eee",
   "metadata": {},
   "outputs": [
    {
     "name": "stdout",
     "output_type": "stream",
     "text": [
      "Ram\n"
     ]
    }
   ],
   "source": [
    "print(a[0][0])"
   ]
  },
  {
   "cell_type": "code",
   "execution_count": 17,
   "id": "3e63c28b",
   "metadata": {},
   "outputs": [
    {
     "name": "stdout",
     "output_type": "stream",
     "text": [
      "kathmandu\n"
     ]
    }
   ],
   "source": [
    "print(a[0][2])"
   ]
  },
  {
   "cell_type": "code",
   "execution_count": 18,
   "id": "d28274a3",
   "metadata": {},
   "outputs": [
    {
     "data": {
      "text/plain": [
       "[['ram', 53, 'ktm'], ['shyam', 67, 'bhaktapur'], ['gita', 89, 'lalitpur']]"
      ]
     },
     "execution_count": 18,
     "metadata": {},
     "output_type": "execute_result"
    }
   ],
   "source": [
    "a=[[\"Ram\",56,\"kathmandu\"],\n",
    "  [\"shyam\",67,\"bhaktapur\"],\n",
    "  [\"gita\",89,\"lalitpur\"]]\n",
    "a[0]=[\"ram\",53,\"ktm\"]\n",
    "a"
   ]
  },
  {
   "cell_type": "code",
   "execution_count": 19,
   "id": "8477c041",
   "metadata": {},
   "outputs": [
    {
     "data": {
      "text/plain": [
       "[['Ram', 53, 'ktm'], ['shyam', 67, 'bhaktapur'], ['gita', 89, 'lalitpur']]"
      ]
     },
     "execution_count": 19,
     "metadata": {},
     "output_type": "execute_result"
    }
   ],
   "source": [
    "a[0][0]=\"Ram\"\n",
    "a"
   ]
  },
  {
   "cell_type": "code",
   "execution_count": 20,
   "id": "64e95c26",
   "metadata": {},
   "outputs": [
    {
     "name": "stdout",
     "output_type": "stream",
     "text": [
      "[['shyam', 67, 'bhaktapur'], ['gita', 89, 'lalitpur']]\n"
     ]
    }
   ],
   "source": [
    "del a[0]\n",
    "print(a)"
   ]
  },
  {
   "cell_type": "code",
   "execution_count": 21,
   "id": "0b96fe2a",
   "metadata": {},
   "outputs": [
    {
     "name": "stdout",
     "output_type": "stream",
     "text": [
      "enter the n=3\n",
      "enter name=shyam\n",
      "enter age=34\n",
      "enter add=asd\n",
      "enter name=hari\n",
      "enter age=22\n",
      "enter add=qwe\n",
      "enter name=asd\n",
      "enter age=67\n",
      "enter add=fgh\n",
      "[['shyam', 34, 'asd'], ['hari', 22, 'qwe'], ['asd', 67, 'fgh']]\n"
     ]
    }
   ],
   "source": [
    "x=[]\n",
    "n=int(input(\"enter the n=\"))\n",
    "for i in range(n):\n",
    "    name=input(\"enter name=\")\n",
    "    age=int(input(\"enter age=\"))\n",
    "    add=input(\"enter add=\")\n",
    "    x.append([name,age,add])\n",
    "print(x)"
   ]
  },
  {
   "cell_type": "code",
   "execution_count": 27,
   "id": "9b588ea8",
   "metadata": {},
   "outputs": [
    {
     "name": "stdout",
     "output_type": "stream",
     "text": [
      "enter value=hari\n",
      "['hari', 22, 'bkt']\n"
     ]
    }
   ],
   "source": [
    "a=[['shyam', 34, 'ktm'], ['hari', 22, 'bkt'], ['asd', 67, 'lalitpur']]\n",
    "value=input(\"enter value=\")\n",
    "for i in a:\n",
    "   # print(i)\n",
    "    if value in i:\n",
    "        print(i)\n"
   ]
  },
  {
   "cell_type": "code",
   "execution_count": 30,
   "id": "f06211a2",
   "metadata": {},
   "outputs": [
    {
     "name": "stdout",
     "output_type": "stream",
     "text": [
      "enter value=shyam\n",
      "['shyam', 34, 'ktm']\n"
     ]
    }
   ],
   "source": [
    "a=[['shyam', 34, 'ktm'], ['hari', 22, 'bkt'], ['Shyam', 67, 'lalitpur']]\n",
    "value=input(\"enter value=\")\n",
    "for i in a:\n",
    "   # print(i)\n",
    "    if value in (i):\n",
    "        print(i)"
   ]
  },
  {
   "cell_type": "code",
   "execution_count": 35,
   "id": "74631cf2",
   "metadata": {},
   "outputs": [
    {
     "name": "stdout",
     "output_type": "stream",
     "text": [
      "enter value=shyam\n",
      "['shyam', 34, 'ktm']\n",
      "['Shyam', 67, 'lalitpur']\n"
     ]
    }
   ],
   "source": [
    "a=[['shyam', 34, 'ktm'], ['hari', 22, 'bkt'], ['Shyam', 67, 'lalitpur']]\n",
    "value=input(\"enter value=\").lower()\n",
    "for i in a:\n",
    "   # print(i)\n",
    "    if value==i[0].lower(): \n",
    "        print(i)"
   ]
  },
  {
   "cell_type": "code",
   "execution_count": 36,
   "id": "f6d84291",
   "metadata": {},
   "outputs": [],
   "source": [
    "#wap to create a matrix\n",
    "#r=?\n",
    "#c=?\n",
    "#x=?"
   ]
  },
  {
   "cell_type": "code",
   "execution_count": 37,
   "id": "68b6e50c",
   "metadata": {},
   "outputs": [
    {
     "name": "stdout",
     "output_type": "stream",
     "text": [
      "Momo 200 3 600\n",
      "Coke 300 2 600\n"
     ]
    }
   ],
   "source": [
    "bill=\"Momo 200 3 600\\nCoke 300 2 600\"\n",
    "print(bill)"
   ]
  },
  {
   "cell_type": "code",
   "execution_count": 3,
   "id": "bbfd95e2",
   "metadata": {},
   "outputs": [
    {
     "name": "stdout",
     "output_type": "stream",
     "text": [
      "Enter the number of rows: 2\n",
      "Enter the number of columns: 3\n",
      "Enter element at (1,1): 1\n",
      "Enter element at (1,2): 2\n",
      "Enter element at (1,3): 3\n",
      "Enter element at (2,1): 4\n",
      "Enter element at (2,2): 5\n",
      "Enter element at (2,3): 6\n",
      "[[1, 2, 3], [4, 5, 6]]\n"
     ]
    }
   ],
   "source": [
    "rows = int(input(\"Enter the number of rows: \"))\n",
    "cols = int(input(\"Enter the number of columns: \"))\n",
    "\n",
    "matrix = []\n",
    "for i in range(rows):\n",
    "    row = []\n",
    "    for j in range(cols):\n",
    "        element = int(input(f\"Enter element at ({i+1},{j+1}): \"))\n",
    "        row.append(element)\n",
    "    matrix.append(row)\n",
    "\n",
    "print(matrix)"
   ]
  },
  {
   "cell_type": "markdown",
   "id": "054a4ea3",
   "metadata": {},
   "source": []
  },
  {
   "cell_type": "code",
   "execution_count": 4,
   "id": "fdad8d77",
   "metadata": {},
   "outputs": [
    {
     "name": "stdout",
     "output_type": "stream",
     "text": [
      "enter r=3\n",
      "enter c=3\n",
      "enter x= for i=0 j=01\n",
      "enter x= for i=0 j=12\n",
      "enter x= for i=0 j=23\n",
      "enter x= for i=1 j=04\n",
      "enter x= for i=1 j=15\n",
      "enter x= for i=1 j=26\n",
      "enter x= for i=2 j=07\n",
      "enter x= for i=2 j=18\n",
      "enter x= for i=2 j=29\n",
      "[[1, 2, 3], [4, 5, 6], [7, 8, 9]]\n"
     ]
    }
   ],
   "source": [
    "r=int(input(\"enter r=\"))\n",
    "c=int(input(\"enter c=\"))\n",
    "y=[]\n",
    "for i in range(r):\n",
    "    z=[]\n",
    "    for j in range(c):\n",
    "        x=int(input(f\"enter x= for i={i} j={j}\"))\n",
    "        z.append(x)\n",
    "    y.append(z)\n",
    "print(y)"
   ]
  },
  {
   "cell_type": "code",
   "execution_count": 5,
   "id": "49aeb42a",
   "metadata": {},
   "outputs": [
    {
     "name": "stdout",
     "output_type": "stream",
     "text": [
      "momo 200 3 600\n",
      "coke 300 2 600\n"
     ]
    }
   ],
   "source": [
    "bill=\"momo 200 3 600\\ncoke 300 2 600\"\n",
    "print(bill)"
   ]
  },
  {
   "cell_type": "code",
   "execution_count": 10,
   "id": "7374d0e7",
   "metadata": {},
   "outputs": [
    {
     "name": "stdout",
     "output_type": "stream",
     "text": [
      "['momo 200 3 600', 'coke 300 2 600']\n"
     ]
    },
    {
     "data": {
      "text/plain": [
       "[['momo', '200', '3', '600'], ['coke', '300', '2', '600']]"
      ]
     },
     "execution_count": 10,
     "metadata": {},
     "output_type": "execute_result"
    }
   ],
   "source": [
    "final=[]\n",
    "list_bill=bill.split('\\n')\n",
    "print(list_bill)\n",
    "for i in list_bill:\n",
    "    final.append(i.split())\n",
    "final"
   ]
  },
  {
   "cell_type": "code",
   "execution_count": null,
   "id": "1199a57b",
   "metadata": {},
   "outputs": [],
   "source": []
  }
 ],
 "metadata": {
  "kernelspec": {
   "display_name": "Python 3 (ipykernel)",
   "language": "python",
   "name": "python3"
  },
  "language_info": {
   "codemirror_mode": {
    "name": "ipython",
    "version": 3
   },
   "file_extension": ".py",
   "mimetype": "text/x-python",
   "name": "python",
   "nbconvert_exporter": "python",
   "pygments_lexer": "ipython3",
   "version": "3.10.9"
  }
 },
 "nbformat": 4,
 "nbformat_minor": 5
}
